{
 "cells": [
  {
   "cell_type": "markdown",
   "id": "8db957e6-4012-4950-ae40-580a5f9deae0",
   "metadata": {},
   "source": [
    "<center><font size=\"5\"><b>Causal AI: <br> Causal Impact of Player Substitutions on Soccer Team Performance <br> Statsbomb Data Analysis</b></font></center>"
   ]
  },
  {
   "cell_type": "code",
   "execution_count": 1,
   "id": "2a72da75",
   "metadata": {},
   "outputs": [],
   "source": [
    "import pathlib\n",
    "import matplotlib.pyplot as plt\n",
    "import matplotlib.patches as mpatches\n",
    "import numpy as np\n",
    "import pandas as pd\n",
    "import seaborn as sns\n",
    "from tqdm import tqdm\n",
    "\n",
    "from causalai.simulation__ import simulate_matches\n",
    "from causalai.auxiliaries import *\n",
    "\n",
    "\n",
    "import dowhy\n",
    "import networkx as nx\n",
    "import pygraphviz\n",
    "# import pgmpy\n",
    "\n",
    "from pgmpy.models import DiscreteBayesianNetwork\n",
    "from sklearn.linear_model import LogisticRegression\n",
    "from sklearn.neighbors import NearestNeighbors\n",
    "from sklearn.preprocessing import StandardScaler\n",
    "from pgmpy.inference import CausalInference\n",
    "\n",
    "import arviz as az\n",
    "import pymc as pm"
   ]
  },
  {
   "cell_type": "code",
   "execution_count": 2,
   "id": "b10064f1",
   "metadata": {},
   "outputs": [],
   "source": [
    "plt.style.use(\"seaborn-v0_8\")\n",
    "sns.set_palette(\"husl\")\n",
    "seed = sum(map(ord, \"eda-simulation\"))\n",
    "rng = np.random.default_rng(seed)"
   ]
  },
  {
   "cell_type": "code",
   "execution_count": 3,
   "id": "326e0518-6d7e-4344-88f8-01488ef61b39",
   "metadata": {},
   "outputs": [],
   "source": [
    "def R2(y,yhat,ybar):\n",
    "\n",
    "    SSR = sum((y-yhat)**2)\n",
    "    SST = sum((y-ybar)**2)\n",
    "    return 1 - SSR/SST\n",
    "    "
   ]
  },
  {
   "cell_type": "code",
   "execution_count": 4,
   "id": "cb17546c-6101-4ca7-a5f4-a5fcc12b2d77",
   "metadata": {},
   "outputs": [],
   "source": [
    "# =================================== USER INTERACTION -- Global Parameters =================================== #\n",
    "\n",
    "# -------------------------------- Data -------------------------------- #\n",
    "\n",
    "\n",
    "# --- Path to the main directory: [None; str]\n",
    "directory = '/Users/maximilian/Dropbox/Max/52_SoccerCausality' \n",
    "\n",
    "\n",
    "# -------------------------------- Model -------------------------------- #\n",
    "\n",
    "# --- Select the outcomes (Y) that you want to analyze the causal drivers of: ['shots','goals','passes']\n",
    "OUTCOMES = [\"shots\",\"goals\",\"passes\"]\n",
    "\n",
    "\n",
    "# -------------------------------- Figures -------------------------------- #\n",
    "\n",
    "# --- Want to save the figures? [True; False]\n",
    "SAVE_FIG = False\n",
    "\n",
    "# =================================== USER INTERACTION -- Global Parameters =================================== #"
   ]
  },
  {
   "cell_type": "markdown",
   "id": "631b91a1-12db-4abd-8445-77d85d136805",
   "metadata": {},
   "source": [
    "<br>\n",
    "\n",
    "## 00. &emsp; Data Loading / Simulation"
   ]
  },
  {
   "cell_type": "code",
   "execution_count": 5,
   "id": "af3698d4-86b0-4238-89d4-5042b456bbf7",
   "metadata": {},
   "outputs": [
    {
     "name": "stdout",
     "output_type": "stream",
     "text": [
      "\n",
      "# Match Situations:    4950\n",
      "# Unique Matches:      2327\n",
      "# Matches with Sub:    2210\n",
      "Matches with Subs (%): 94.97%\n",
      "\n",
      "\n"
     ]
    },
    {
     "data": {
      "text/html": [
       "<div>\n",
       "<style scoped>\n",
       "    .dataframe tbody tr th:only-of-type {\n",
       "        vertical-align: middle;\n",
       "    }\n",
       "\n",
       "    .dataframe tbody tr th {\n",
       "        vertical-align: top;\n",
       "    }\n",
       "\n",
       "    .dataframe thead th {\n",
       "        text-align: right;\n",
       "    }\n",
       "</style>\n",
       "<table border=\"1\" class=\"dataframe\">\n",
       "  <thead>\n",
       "    <tr style=\"text-align: right;\">\n",
       "      <th></th>\n",
       "      <th>match_status</th>\n",
       "      <th>match_id</th>\n",
       "      <th>competition</th>\n",
       "      <th>season</th>\n",
       "      <th>team_off</th>\n",
       "      <th>team_off__id</th>\n",
       "      <th>team_def</th>\n",
       "      <th>team_def__id</th>\n",
       "      <th>team_off__score60</th>\n",
       "      <th>team_def__score60</th>\n",
       "      <th>...</th>\n",
       "      <th>shots_target__def__pre</th>\n",
       "      <th>shots_target__def__post</th>\n",
       "      <th>goals_scored__off__pre</th>\n",
       "      <th>goals_scored__off__post</th>\n",
       "      <th>goals_scored__def__pre</th>\n",
       "      <th>goals_scored__def__post</th>\n",
       "      <th>substitution_tactical__off__pre</th>\n",
       "      <th>substitution_tactical__off__post</th>\n",
       "      <th>substitution_tactical__def__pre</th>\n",
       "      <th>substitution_tactical__def__post</th>\n",
       "    </tr>\n",
       "  </thead>\n",
       "  <tbody>\n",
       "    <tr>\n",
       "      <th>0</th>\n",
       "      <td>3888704__59</td>\n",
       "      <td>3888704</td>\n",
       "      <td>International - FIFA World Cup</td>\n",
       "      <td>1958</td>\n",
       "      <td>France</td>\n",
       "      <td>771.0</td>\n",
       "      <td>Brazil</td>\n",
       "      <td>781.0</td>\n",
       "      <td>1.0</td>\n",
       "      <td>3.0</td>\n",
       "      <td>...</td>\n",
       "      <td>17.0</td>\n",
       "      <td>10.0</td>\n",
       "      <td>1.0</td>\n",
       "      <td>1.0</td>\n",
       "      <td>3.0</td>\n",
       "      <td>2.0</td>\n",
       "      <td>0.0</td>\n",
       "      <td>0.0</td>\n",
       "      <td>0.0</td>\n",
       "      <td>0.0</td>\n",
       "    </tr>\n",
       "    <tr>\n",
       "      <th>1</th>\n",
       "      <td>3888705__59</td>\n",
       "      <td>3888705</td>\n",
       "      <td>International - FIFA World Cup</td>\n",
       "      <td>1958</td>\n",
       "      <td>Sweden</td>\n",
       "      <td>790.0</td>\n",
       "      <td>Brazil</td>\n",
       "      <td>781.0</td>\n",
       "      <td>1.0</td>\n",
       "      <td>3.0</td>\n",
       "      <td>...</td>\n",
       "      <td>11.0</td>\n",
       "      <td>4.0</td>\n",
       "      <td>1.0</td>\n",
       "      <td>1.0</td>\n",
       "      <td>3.0</td>\n",
       "      <td>1.0</td>\n",
       "      <td>0.0</td>\n",
       "      <td>0.0</td>\n",
       "      <td>0.0</td>\n",
       "      <td>0.0</td>\n",
       "    </tr>\n",
       "    <tr>\n",
       "      <th>2</th>\n",
       "      <td>3888854__59</td>\n",
       "      <td>3888854</td>\n",
       "      <td>International - FIFA World Cup</td>\n",
       "      <td>1962</td>\n",
       "      <td>Mexico</td>\n",
       "      <td>794.0</td>\n",
       "      <td>Brazil</td>\n",
       "      <td>781.0</td>\n",
       "      <td>0.0</td>\n",
       "      <td>1.0</td>\n",
       "      <td>...</td>\n",
       "      <td>13.0</td>\n",
       "      <td>6.0</td>\n",
       "      <td>0.0</td>\n",
       "      <td>0.0</td>\n",
       "      <td>1.0</td>\n",
       "      <td>1.0</td>\n",
       "      <td>0.0</td>\n",
       "      <td>0.0</td>\n",
       "      <td>0.0</td>\n",
       "      <td>0.0</td>\n",
       "    </tr>\n",
       "    <tr>\n",
       "      <th>3</th>\n",
       "      <td>3888699__76</td>\n",
       "      <td>3888699</td>\n",
       "      <td>International - FIFA World Cup</td>\n",
       "      <td>1970</td>\n",
       "      <td>Czechoslovakia</td>\n",
       "      <td>17469.0</td>\n",
       "      <td>Brazil</td>\n",
       "      <td>781.0</td>\n",
       "      <td>1.0</td>\n",
       "      <td>2.0</td>\n",
       "      <td>...</td>\n",
       "      <td>14.0</td>\n",
       "      <td>2.0</td>\n",
       "      <td>1.0</td>\n",
       "      <td>0.0</td>\n",
       "      <td>3.0</td>\n",
       "      <td>1.0</td>\n",
       "      <td>1.0</td>\n",
       "      <td>0.0</td>\n",
       "      <td>1.0</td>\n",
       "      <td>0.0</td>\n",
       "    </tr>\n",
       "    <tr>\n",
       "      <th>4</th>\n",
       "      <td>3888700__62</td>\n",
       "      <td>3888700</td>\n",
       "      <td>International - FIFA World Cup</td>\n",
       "      <td>1970</td>\n",
       "      <td>England</td>\n",
       "      <td>768.0</td>\n",
       "      <td>Brazil</td>\n",
       "      <td>781.0</td>\n",
       "      <td>0.0</td>\n",
       "      <td>1.0</td>\n",
       "      <td>...</td>\n",
       "      <td>8.0</td>\n",
       "      <td>2.0</td>\n",
       "      <td>0.0</td>\n",
       "      <td>0.0</td>\n",
       "      <td>1.0</td>\n",
       "      <td>0.0</td>\n",
       "      <td>0.0</td>\n",
       "      <td>0.0</td>\n",
       "      <td>0.0</td>\n",
       "      <td>1.0</td>\n",
       "    </tr>\n",
       "  </tbody>\n",
       "</table>\n",
       "<p>5 rows × 102 columns</p>\n",
       "</div>"
      ],
      "text/plain": [
       "  match_status  match_id                     competition season  \\\n",
       "0  3888704__59   3888704  International - FIFA World Cup   1958   \n",
       "1  3888705__59   3888705  International - FIFA World Cup   1958   \n",
       "2  3888854__59   3888854  International - FIFA World Cup   1962   \n",
       "3  3888699__76   3888699  International - FIFA World Cup   1970   \n",
       "4  3888700__62   3888700  International - FIFA World Cup   1970   \n",
       "\n",
       "         team_off  team_off__id team_def  team_def__id  team_off__score60  \\\n",
       "0          France         771.0   Brazil         781.0                1.0   \n",
       "1          Sweden         790.0   Brazil         781.0                1.0   \n",
       "2          Mexico         794.0   Brazil         781.0                0.0   \n",
       "3  Czechoslovakia       17469.0   Brazil         781.0                1.0   \n",
       "4         England         768.0   Brazil         781.0                0.0   \n",
       "\n",
       "   team_def__score60  ... shots_target__def__pre  shots_target__def__post  \\\n",
       "0                3.0  ...                   17.0                     10.0   \n",
       "1                3.0  ...                   11.0                      4.0   \n",
       "2                1.0  ...                   13.0                      6.0   \n",
       "3                2.0  ...                   14.0                      2.0   \n",
       "4                1.0  ...                    8.0                      2.0   \n",
       "\n",
       "   goals_scored__off__pre  goals_scored__off__post  goals_scored__def__pre  \\\n",
       "0                     1.0                      1.0                     3.0   \n",
       "1                     1.0                      1.0                     3.0   \n",
       "2                     0.0                      0.0                     1.0   \n",
       "3                     1.0                      0.0                     3.0   \n",
       "4                     0.0                      0.0                     1.0   \n",
       "\n",
       "   goals_scored__def__post  substitution_tactical__off__pre  \\\n",
       "0                      2.0                              0.0   \n",
       "1                      1.0                              0.0   \n",
       "2                      1.0                              0.0   \n",
       "3                      1.0                              1.0   \n",
       "4                      0.0                              0.0   \n",
       "\n",
       "   substitution_tactical__off__post  substitution_tactical__def__pre  \\\n",
       "0                               0.0                              0.0   \n",
       "1                               0.0                              0.0   \n",
       "2                               0.0                              0.0   \n",
       "3                               0.0                              1.0   \n",
       "4                               0.0                              0.0   \n",
       "\n",
       "   substitution_tactical__def__post  \n",
       "0                               0.0  \n",
       "1                               0.0  \n",
       "2                               0.0  \n",
       "3                               0.0  \n",
       "4                               1.0  \n",
       "\n",
       "[5 rows x 102 columns]"
      ]
     },
     "execution_count": 5,
     "metadata": {},
     "output_type": "execute_result"
    }
   ],
   "source": [
    "# =================================== 00.1 Load the Data =================================== #\n",
    "\n",
    "# --- Read in the Data:\n",
    "df = pd.read_csv(f'{directory}/10_data/data_StatsBomb__byMatch_bySub.csv').astype({'match_id':int})\n",
    "    \n",
    "\n",
    "# --- Number of Matches with Substitutions:\n",
    "matchID__Sub = list(df.loc[df['substitution_replacementNumber__off'].dropna().index,:]['match_id'].unique())\n",
    "\n",
    "print(f\"\\n# Match Situations:    {df.shape[0]}\")\n",
    "print(f\"# Unique Matches:      {len(df['match_id'].unique())}\")\n",
    "print(f\"# Matches with Sub:    {len(matchID__Sub)}\")\n",
    "print(f\"Matches with Subs (%): {len(matchID__Sub) / len(df['match_id'].unique()) * 100:.2f}%\")\n",
    "print(\"\\n\")\n",
    "df.head()"
   ]
  },
  {
   "cell_type": "code",
   "execution_count": 6,
   "id": "af6faed5-f860-4294-a0c4-d968ea606b15",
   "metadata": {},
   "outputs": [
    {
     "name": "stderr",
     "output_type": "stream",
     "text": [
      "/var/folders/wv/ptzsw2sx50dc4_j6b16q80sr0000gn/T/ipykernel_56102/293424576.py:4: PerformanceWarning: DataFrame is highly fragmented.  This is usually the result of calling `frame.insert` many times, which has poor performance.  Consider joining all columns at once using pd.concat(axis=1) instead. To get a de-fragmented frame, use `newframe = frame.copy()`\n",
      "  df['score_diff'] = df['team_off__score60'] - df['team_def__score60']\n",
      "/var/folders/wv/ptzsw2sx50dc4_j6b16q80sr0000gn/T/ipykernel_56102/293424576.py:7: PerformanceWarning: DataFrame is highly fragmented.  This is usually the result of calling `frame.insert` many times, which has poor performance.  Consider joining all columns at once using pd.concat(axis=1) instead. To get a de-fragmented frame, use `newframe = frame.copy()`\n",
      "  df['sub'] = np.where(df['match_id'].isin(matchID__Sub),1,0)\n",
      "/var/folders/wv/ptzsw2sx50dc4_j6b16q80sr0000gn/T/ipykernel_56102/293424576.py:14: PerformanceWarning: DataFrame is highly fragmented.  This is usually the result of calling `frame.insert` many times, which has poor performance.  Consider joining all columns at once using pd.concat(axis=1) instead. To get a de-fragmented frame, use `newframe = frame.copy()`\n",
      "  df[f'passes_perMin__{team}__pre'] = df[f'passes_total__{team}__pre'] / df['substitution_minute__off']\n",
      "/var/folders/wv/ptzsw2sx50dc4_j6b16q80sr0000gn/T/ipykernel_56102/293424576.py:15: PerformanceWarning: DataFrame is highly fragmented.  This is usually the result of calling `frame.insert` many times, which has poor performance.  Consider joining all columns at once using pd.concat(axis=1) instead. To get a de-fragmented frame, use `newframe = frame.copy()`\n",
      "  df[f'passes_perMin__{team}__post'] = df[f'passes_total__{team}__post'] / df['substitution_minuteDelta__off']\n",
      "/var/folders/wv/ptzsw2sx50dc4_j6b16q80sr0000gn/T/ipykernel_56102/293424576.py:18: PerformanceWarning: DataFrame is highly fragmented.  This is usually the result of calling `frame.insert` many times, which has poor performance.  Consider joining all columns at once using pd.concat(axis=1) instead. To get a de-fragmented frame, use `newframe = frame.copy()`\n",
      "  df[f'shots_perMin__{team}__pre'] = df[f'shots_total__{team}__pre'] / df['substitution_minute__off']\n",
      "/var/folders/wv/ptzsw2sx50dc4_j6b16q80sr0000gn/T/ipykernel_56102/293424576.py:19: PerformanceWarning: DataFrame is highly fragmented.  This is usually the result of calling `frame.insert` many times, which has poor performance.  Consider joining all columns at once using pd.concat(axis=1) instead. To get a de-fragmented frame, use `newframe = frame.copy()`\n",
      "  df[f'shots_perMin__{team}__post'] = df[f'shots_total__{team}__post'] / df['substitution_minuteDelta__off']\n",
      "/var/folders/wv/ptzsw2sx50dc4_j6b16q80sr0000gn/T/ipykernel_56102/293424576.py:22: PerformanceWarning: DataFrame is highly fragmented.  This is usually the result of calling `frame.insert` many times, which has poor performance.  Consider joining all columns at once using pd.concat(axis=1) instead. To get a de-fragmented frame, use `newframe = frame.copy()`\n",
      "  df[f'goals_perMin__{team}__pre'] = df[f'goals_scored__{team}__pre'] / df['substitution_minute__off']\n",
      "/var/folders/wv/ptzsw2sx50dc4_j6b16q80sr0000gn/T/ipykernel_56102/293424576.py:23: PerformanceWarning: DataFrame is highly fragmented.  This is usually the result of calling `frame.insert` many times, which has poor performance.  Consider joining all columns at once using pd.concat(axis=1) instead. To get a de-fragmented frame, use `newframe = frame.copy()`\n",
      "  df[f'goals_perMin__{team}__post'] = df[f'goals_scored__{team}__post'] / df['substitution_minuteDelta__off']\n",
      "/var/folders/wv/ptzsw2sx50dc4_j6b16q80sr0000gn/T/ipykernel_56102/293424576.py:14: PerformanceWarning: DataFrame is highly fragmented.  This is usually the result of calling `frame.insert` many times, which has poor performance.  Consider joining all columns at once using pd.concat(axis=1) instead. To get a de-fragmented frame, use `newframe = frame.copy()`\n",
      "  df[f'passes_perMin__{team}__pre'] = df[f'passes_total__{team}__pre'] / df['substitution_minute__off']\n",
      "/var/folders/wv/ptzsw2sx50dc4_j6b16q80sr0000gn/T/ipykernel_56102/293424576.py:15: PerformanceWarning: DataFrame is highly fragmented.  This is usually the result of calling `frame.insert` many times, which has poor performance.  Consider joining all columns at once using pd.concat(axis=1) instead. To get a de-fragmented frame, use `newframe = frame.copy()`\n",
      "  df[f'passes_perMin__{team}__post'] = df[f'passes_total__{team}__post'] / df['substitution_minuteDelta__off']\n",
      "/var/folders/wv/ptzsw2sx50dc4_j6b16q80sr0000gn/T/ipykernel_56102/293424576.py:18: PerformanceWarning: DataFrame is highly fragmented.  This is usually the result of calling `frame.insert` many times, which has poor performance.  Consider joining all columns at once using pd.concat(axis=1) instead. To get a de-fragmented frame, use `newframe = frame.copy()`\n",
      "  df[f'shots_perMin__{team}__pre'] = df[f'shots_total__{team}__pre'] / df['substitution_minute__off']\n",
      "/var/folders/wv/ptzsw2sx50dc4_j6b16q80sr0000gn/T/ipykernel_56102/293424576.py:19: PerformanceWarning: DataFrame is highly fragmented.  This is usually the result of calling `frame.insert` many times, which has poor performance.  Consider joining all columns at once using pd.concat(axis=1) instead. To get a de-fragmented frame, use `newframe = frame.copy()`\n",
      "  df[f'shots_perMin__{team}__post'] = df[f'shots_total__{team}__post'] / df['substitution_minuteDelta__off']\n",
      "/var/folders/wv/ptzsw2sx50dc4_j6b16q80sr0000gn/T/ipykernel_56102/293424576.py:22: PerformanceWarning: DataFrame is highly fragmented.  This is usually the result of calling `frame.insert` many times, which has poor performance.  Consider joining all columns at once using pd.concat(axis=1) instead. To get a de-fragmented frame, use `newframe = frame.copy()`\n",
      "  df[f'goals_perMin__{team}__pre'] = df[f'goals_scored__{team}__pre'] / df['substitution_minute__off']\n",
      "/var/folders/wv/ptzsw2sx50dc4_j6b16q80sr0000gn/T/ipykernel_56102/293424576.py:23: PerformanceWarning: DataFrame is highly fragmented.  This is usually the result of calling `frame.insert` many times, which has poor performance.  Consider joining all columns at once using pd.concat(axis=1) instead. To get a de-fragmented frame, use `newframe = frame.copy()`\n",
      "  df[f'goals_perMin__{team}__post'] = df[f'goals_scored__{team}__post'] / df['substitution_minuteDelta__off']\n",
      "/var/folders/wv/ptzsw2sx50dc4_j6b16q80sr0000gn/T/ipykernel_56102/293424576.py:27: PerformanceWarning: DataFrame is highly fragmented.  This is usually the result of calling `frame.insert` many times, which has poor performance.  Consider joining all columns at once using pd.concat(axis=1) instead. To get a de-fragmented frame, use `newframe = frame.copy()`\n",
      "  df['strength_diff__passes'] = df['passes_total__off__pre'] - df['passes_total__def__pre']\n",
      "/var/folders/wv/ptzsw2sx50dc4_j6b16q80sr0000gn/T/ipykernel_56102/293424576.py:30: PerformanceWarning: DataFrame is highly fragmented.  This is usually the result of calling `frame.insert` many times, which has poor performance.  Consider joining all columns at once using pd.concat(axis=1) instead. To get a de-fragmented frame, use `newframe = frame.copy()`\n",
      "  df['strength_diff__shots'] = df['shots_total__off__pre'] - df['shots_total__def__pre']\n",
      "/var/folders/wv/ptzsw2sx50dc4_j6b16q80sr0000gn/T/ipykernel_56102/293424576.py:33: PerformanceWarning: DataFrame is highly fragmented.  This is usually the result of calling `frame.insert` many times, which has poor performance.  Consider joining all columns at once using pd.concat(axis=1) instead. To get a de-fragmented frame, use `newframe = frame.copy()`\n",
      "  df['strength_diff__goals'] = df['goals_scored__off__pre'] - df['goals_scored__def__pre']\n",
      "/var/folders/wv/ptzsw2sx50dc4_j6b16q80sr0000gn/T/ipykernel_56102/293424576.py:37: PerformanceWarning: DataFrame is highly fragmented.  This is usually the result of calling `frame.insert` many times, which has poor performance.  Consider joining all columns at once using pd.concat(axis=1) instead. To get a de-fragmented frame, use `newframe = frame.copy()`\n",
      "  df['passes_perMin__off__DIFF' ] = df['passes_perMin__off__post'] - df['passes_perMin__off__pre']\n",
      "/var/folders/wv/ptzsw2sx50dc4_j6b16q80sr0000gn/T/ipykernel_56102/293424576.py:40: PerformanceWarning: DataFrame is highly fragmented.  This is usually the result of calling `frame.insert` many times, which has poor performance.  Consider joining all columns at once using pd.concat(axis=1) instead. To get a de-fragmented frame, use `newframe = frame.copy()`\n",
      "  df['shots_perMin__off__DIFF' ] = df['shots_perMin__off__post'] - df['shots_perMin__off__pre']\n",
      "/var/folders/wv/ptzsw2sx50dc4_j6b16q80sr0000gn/T/ipykernel_56102/293424576.py:43: PerformanceWarning: DataFrame is highly fragmented.  This is usually the result of calling `frame.insert` many times, which has poor performance.  Consider joining all columns at once using pd.concat(axis=1) instead. To get a de-fragmented frame, use `newframe = frame.copy()`\n",
      "  df['goals_perMin__off__DIFF' ] = df['goals_perMin__off__post'] - df['goals_perMin__off__pre']\n"
     ]
    }
   ],
   "source": [
    "# =================================== 00.2 For Compatibility further down the Road =================================== #\n",
    "\n",
    "# --- Score Differential in Minute 60:\n",
    "df['score_diff'] = df['team_off__score60'] - df['team_def__score60']\n",
    "\n",
    "# --- Indicator whether a substitution was made or not:\n",
    "df['sub'] = np.where(df['match_id'].isin(matchID__Sub),1,0)\n",
    "\n",
    "\n",
    "# --- Outcomes per Minute, pre- & post-event:\n",
    "for team in ['off','def']:\n",
    "\n",
    "    # --- Passes per Minute:\n",
    "    df[f'passes_perMin__{team}__pre'] = df[f'passes_total__{team}__pre'] / df['substitution_minute__off']\n",
    "    df[f'passes_perMin__{team}__post'] = df[f'passes_total__{team}__post'] / df['substitution_minuteDelta__off']\n",
    "    \n",
    "    # --- Shots per Minute:\n",
    "    df[f'shots_perMin__{team}__pre'] = df[f'shots_total__{team}__pre'] / df['substitution_minute__off']\n",
    "    df[f'shots_perMin__{team}__post'] = df[f'shots_total__{team}__post'] / df['substitution_minuteDelta__off']\n",
    "    \n",
    "    # --- Goals per Minute:\n",
    "    df[f'goals_perMin__{team}__pre'] = df[f'goals_scored__{team}__pre'] / df['substitution_minute__off']\n",
    "    df[f'goals_perMin__{team}__post'] = df[f'goals_scored__{team}__post'] / df['substitution_minuteDelta__off']\n",
    "\n",
    "\n",
    "# --- Strength Differential Passes:\n",
    "df['strength_diff__passes'] = df['passes_total__off__pre'] - df['passes_total__def__pre']\n",
    "\n",
    "# --- Strength Differential Shots:\n",
    "df['strength_diff__shots'] = df['shots_total__off__pre'] - df['shots_total__def__pre']\n",
    "\n",
    "# --- Strength Differential Goals:\n",
    "df['strength_diff__goals'] = df['goals_scored__off__pre'] - df['goals_scored__def__pre']\n",
    "\n",
    "\n",
    "# --- Offense Passes per Minute - Differential:\n",
    "df['passes_perMin__off__DIFF' ] = df['passes_perMin__off__post'] - df['passes_perMin__off__pre']\n",
    "\n",
    "# --- Offense Shots on Target per Minute - Differential:\n",
    "df['shots_perMin__off__DIFF' ] = df['shots_perMin__off__post'] - df['shots_perMin__off__pre']\n",
    "\n",
    "# --- Offense Goals per Minute - Differential:\n",
    "df['goals_perMin__off__DIFF' ] = df['goals_perMin__off__post'] - df['goals_perMin__off__pre']\n",
    "\n"
   ]
  },
  {
   "cell_type": "code",
   "execution_count": 7,
   "id": "9a808e18-43ea-4af4-84fc-81aea7809516",
   "metadata": {},
   "outputs": [
    {
     "data": {
      "text/plain": [
       "['clearances_total',\n",
       " 'dribble_total',\n",
       " 'dribble_success',\n",
       " 'duel_total',\n",
       " 'duel_success',\n",
       " 'fouls_committed',\n",
       " 'interceptions_total',\n",
       " 'interceptions_success',\n",
       " 'pass_shot_assist',\n",
       " 'pass_goal_assist',\n",
       " 'pass_success_length__total',\n",
       " 'pass_success_length__0_5',\n",
       " 'pass_success_length__5_10',\n",
       " 'pass_success_length__10_20',\n",
       " 'pass_success_length__20_40',\n",
       " 'pass_success_length__40',\n",
       " 'passes_total',\n",
       " 'passes_success',\n",
       " 'shots_total',\n",
       " 'shots_target',\n",
       " 'goals_scored',\n",
       " 'substitution_tactical',\n",
       " 'passes_perMin',\n",
       " 'shots_perMin',\n",
       " 'goals_perMin']"
      ]
     },
     "execution_count": 7,
     "metadata": {},
     "output_type": "execute_result"
    }
   ],
   "source": [
    "# =================================== 00.3 Features that could influence Strength-Differential =================================== #\n",
    "\n",
    "\n",
    "[c.split('__off__pre')[0] for c in df.columns if '__off__pre' in c]"
   ]
  },
  {
   "cell_type": "code",
   "execution_count": 8,
   "id": "8e6c76f4-fd82-4e3a-b129-38a58c6569e8",
   "metadata": {},
   "outputs": [
    {
     "name": "stderr",
     "output_type": "stream",
     "text": [
      "/var/folders/wv/ptzsw2sx50dc4_j6b16q80sr0000gn/T/ipykernel_56102/3804909145.py:33: PerformanceWarning: DataFrame is highly fragmented.  This is usually the result of calling `frame.insert` many times, which has poor performance.  Consider joining all columns at once using pd.concat(axis=1) instead. To get a de-fragmented frame, use `newframe = frame.copy()`\n",
      "  df[f'pass_success_Rate__off__{sub}'] = (df[f'pass_success_length__0_5__off__{sub}'] + df[f'pass_success_length__5_10__off__{sub}'] +\n",
      "/var/folders/wv/ptzsw2sx50dc4_j6b16q80sr0000gn/T/ipykernel_56102/3804909145.py:36: PerformanceWarning: DataFrame is highly fragmented.  This is usually the result of calling `frame.insert` many times, which has poor performance.  Consider joining all columns at once using pd.concat(axis=1) instead. To get a de-fragmented frame, use `newframe = frame.copy()`\n",
      "  df[f'pass_success_Rate__def__{sub}'] = (df[f'pass_success_length__0_5__def__{sub}'] + df[f'pass_success_length__5_10__def__{sub}'] +\n",
      "/var/folders/wv/ptzsw2sx50dc4_j6b16q80sr0000gn/T/ipykernel_56102/3804909145.py:41: PerformanceWarning: DataFrame is highly fragmented.  This is usually the result of calling `frame.insert` many times, which has poor performance.  Consider joining all columns at once using pd.concat(axis=1) instead. To get a de-fragmented frame, use `newframe = frame.copy()`\n",
      "  df[f'shots_target_Rate__off__{sub}'] = df[f'shots_target__off__{sub}'] / df[f'shots_total__off__{sub}']\n",
      "/var/folders/wv/ptzsw2sx50dc4_j6b16q80sr0000gn/T/ipykernel_56102/3804909145.py:42: PerformanceWarning: DataFrame is highly fragmented.  This is usually the result of calling `frame.insert` many times, which has poor performance.  Consider joining all columns at once using pd.concat(axis=1) instead. To get a de-fragmented frame, use `newframe = frame.copy()`\n",
      "  df[f'shots_target_Rate__def__{sub}'] = df[f'shots_target__def__{sub}'] / df[f'shots_total__def__{sub}']\n",
      "/var/folders/wv/ptzsw2sx50dc4_j6b16q80sr0000gn/T/ipykernel_56102/3804909145.py:45: PerformanceWarning: DataFrame is highly fragmented.  This is usually the result of calling `frame.insert` many times, which has poor performance.  Consider joining all columns at once using pd.concat(axis=1) instead. To get a de-fragmented frame, use `newframe = frame.copy()`\n",
      "  df[f'interceptions_Rate__off__{sub}'] = df[f'interceptions_success__off__{sub}'] / df[f'interceptions_total__off__{sub}']\n",
      "/var/folders/wv/ptzsw2sx50dc4_j6b16q80sr0000gn/T/ipykernel_56102/3804909145.py:46: PerformanceWarning: DataFrame is highly fragmented.  This is usually the result of calling `frame.insert` many times, which has poor performance.  Consider joining all columns at once using pd.concat(axis=1) instead. To get a de-fragmented frame, use `newframe = frame.copy()`\n",
      "  df[f'interceptions_Rate__def__{sub}'] = df[f'interceptions_success__def__{sub}'] / df[f'interceptions_total__def__{sub}']\n",
      "/var/folders/wv/ptzsw2sx50dc4_j6b16q80sr0000gn/T/ipykernel_56102/3804909145.py:49: PerformanceWarning: DataFrame is highly fragmented.  This is usually the result of calling `frame.insert` many times, which has poor performance.  Consider joining all columns at once using pd.concat(axis=1) instead. To get a de-fragmented frame, use `newframe = frame.copy()`\n",
      "  df[f'duel_Rate__off__{sub}'] = df[f'duel_success__off__{sub}'] / df[f'duel_total__off__{sub}']\n",
      "/var/folders/wv/ptzsw2sx50dc4_j6b16q80sr0000gn/T/ipykernel_56102/3804909145.py:50: PerformanceWarning: DataFrame is highly fragmented.  This is usually the result of calling `frame.insert` many times, which has poor performance.  Consider joining all columns at once using pd.concat(axis=1) instead. To get a de-fragmented frame, use `newframe = frame.copy()`\n",
      "  df[f'duel_Rate__def__{sub}'] = df[f'duel_success__def__{sub}'] / df[f'duel_total__def__{sub}']\n",
      "/var/folders/wv/ptzsw2sx50dc4_j6b16q80sr0000gn/T/ipykernel_56102/3804909145.py:53: PerformanceWarning: DataFrame is highly fragmented.  This is usually the result of calling `frame.insert` many times, which has poor performance.  Consider joining all columns at once using pd.concat(axis=1) instead. To get a de-fragmented frame, use `newframe = frame.copy()`\n",
      "  df[f'dribble_Rate__off__{sub}'] = df[f'dribble_success__off__{sub}'] / df[f'dribble_total__off__{sub}']\n",
      "/var/folders/wv/ptzsw2sx50dc4_j6b16q80sr0000gn/T/ipykernel_56102/3804909145.py:54: PerformanceWarning: DataFrame is highly fragmented.  This is usually the result of calling `frame.insert` many times, which has poor performance.  Consider joining all columns at once using pd.concat(axis=1) instead. To get a de-fragmented frame, use `newframe = frame.copy()`\n",
      "  df[f'dribble_Rate__def__{sub}'] = df[f'dribble_success__def__{sub}'] / df[f'dribble_total__def__{sub}']\n",
      "/var/folders/wv/ptzsw2sx50dc4_j6b16q80sr0000gn/T/ipykernel_56102/3804909145.py:59: PerformanceWarning: DataFrame is highly fragmented.  This is usually the result of calling `frame.insert` many times, which has poor performance.  Consider joining all columns at once using pd.concat(axis=1) instead. To get a de-fragmented frame, use `newframe = frame.copy()`\n",
      "  df[f'strength__off__{sub}'] = (wPerformance[f'passes'] * df[f'pass_success_Rate__off__{sub}'] +\n",
      "/var/folders/wv/ptzsw2sx50dc4_j6b16q80sr0000gn/T/ipykernel_56102/3804909145.py:64: PerformanceWarning: DataFrame is highly fragmented.  This is usually the result of calling `frame.insert` many times, which has poor performance.  Consider joining all columns at once using pd.concat(axis=1) instead. To get a de-fragmented frame, use `newframe = frame.copy()`\n",
      "  df[f'strength__def__{sub}'] = (wPerformance[f'passes'] * df[f'pass_success_Rate__def__{sub}'] +\n",
      "/var/folders/wv/ptzsw2sx50dc4_j6b16q80sr0000gn/T/ipykernel_56102/3804909145.py:69: PerformanceWarning: DataFrame is highly fragmented.  This is usually the result of calling `frame.insert` many times, which has poor performance.  Consider joining all columns at once using pd.concat(axis=1) instead. To get a de-fragmented frame, use `newframe = frame.copy()`\n",
      "  df[f'strength_diff__{sub}'] = df[f'strength__off__{sub}'] - df[f'strength__def__{sub}']\n",
      "/var/folders/wv/ptzsw2sx50dc4_j6b16q80sr0000gn/T/ipykernel_56102/3804909145.py:33: PerformanceWarning: DataFrame is highly fragmented.  This is usually the result of calling `frame.insert` many times, which has poor performance.  Consider joining all columns at once using pd.concat(axis=1) instead. To get a de-fragmented frame, use `newframe = frame.copy()`\n",
      "  df[f'pass_success_Rate__off__{sub}'] = (df[f'pass_success_length__0_5__off__{sub}'] + df[f'pass_success_length__5_10__off__{sub}'] +\n",
      "/var/folders/wv/ptzsw2sx50dc4_j6b16q80sr0000gn/T/ipykernel_56102/3804909145.py:36: PerformanceWarning: DataFrame is highly fragmented.  This is usually the result of calling `frame.insert` many times, which has poor performance.  Consider joining all columns at once using pd.concat(axis=1) instead. To get a de-fragmented frame, use `newframe = frame.copy()`\n",
      "  df[f'pass_success_Rate__def__{sub}'] = (df[f'pass_success_length__0_5__def__{sub}'] + df[f'pass_success_length__5_10__def__{sub}'] +\n",
      "/var/folders/wv/ptzsw2sx50dc4_j6b16q80sr0000gn/T/ipykernel_56102/3804909145.py:41: PerformanceWarning: DataFrame is highly fragmented.  This is usually the result of calling `frame.insert` many times, which has poor performance.  Consider joining all columns at once using pd.concat(axis=1) instead. To get a de-fragmented frame, use `newframe = frame.copy()`\n",
      "  df[f'shots_target_Rate__off__{sub}'] = df[f'shots_target__off__{sub}'] / df[f'shots_total__off__{sub}']\n",
      "/var/folders/wv/ptzsw2sx50dc4_j6b16q80sr0000gn/T/ipykernel_56102/3804909145.py:42: PerformanceWarning: DataFrame is highly fragmented.  This is usually the result of calling `frame.insert` many times, which has poor performance.  Consider joining all columns at once using pd.concat(axis=1) instead. To get a de-fragmented frame, use `newframe = frame.copy()`\n",
      "  df[f'shots_target_Rate__def__{sub}'] = df[f'shots_target__def__{sub}'] / df[f'shots_total__def__{sub}']\n",
      "/var/folders/wv/ptzsw2sx50dc4_j6b16q80sr0000gn/T/ipykernel_56102/3804909145.py:45: PerformanceWarning: DataFrame is highly fragmented.  This is usually the result of calling `frame.insert` many times, which has poor performance.  Consider joining all columns at once using pd.concat(axis=1) instead. To get a de-fragmented frame, use `newframe = frame.copy()`\n",
      "  df[f'interceptions_Rate__off__{sub}'] = df[f'interceptions_success__off__{sub}'] / df[f'interceptions_total__off__{sub}']\n",
      "/var/folders/wv/ptzsw2sx50dc4_j6b16q80sr0000gn/T/ipykernel_56102/3804909145.py:46: PerformanceWarning: DataFrame is highly fragmented.  This is usually the result of calling `frame.insert` many times, which has poor performance.  Consider joining all columns at once using pd.concat(axis=1) instead. To get a de-fragmented frame, use `newframe = frame.copy()`\n",
      "  df[f'interceptions_Rate__def__{sub}'] = df[f'interceptions_success__def__{sub}'] / df[f'interceptions_total__def__{sub}']\n",
      "/var/folders/wv/ptzsw2sx50dc4_j6b16q80sr0000gn/T/ipykernel_56102/3804909145.py:49: PerformanceWarning: DataFrame is highly fragmented.  This is usually the result of calling `frame.insert` many times, which has poor performance.  Consider joining all columns at once using pd.concat(axis=1) instead. To get a de-fragmented frame, use `newframe = frame.copy()`\n",
      "  df[f'duel_Rate__off__{sub}'] = df[f'duel_success__off__{sub}'] / df[f'duel_total__off__{sub}']\n",
      "/var/folders/wv/ptzsw2sx50dc4_j6b16q80sr0000gn/T/ipykernel_56102/3804909145.py:50: PerformanceWarning: DataFrame is highly fragmented.  This is usually the result of calling `frame.insert` many times, which has poor performance.  Consider joining all columns at once using pd.concat(axis=1) instead. To get a de-fragmented frame, use `newframe = frame.copy()`\n",
      "  df[f'duel_Rate__def__{sub}'] = df[f'duel_success__def__{sub}'] / df[f'duel_total__def__{sub}']\n",
      "/var/folders/wv/ptzsw2sx50dc4_j6b16q80sr0000gn/T/ipykernel_56102/3804909145.py:53: PerformanceWarning: DataFrame is highly fragmented.  This is usually the result of calling `frame.insert` many times, which has poor performance.  Consider joining all columns at once using pd.concat(axis=1) instead. To get a de-fragmented frame, use `newframe = frame.copy()`\n",
      "  df[f'dribble_Rate__off__{sub}'] = df[f'dribble_success__off__{sub}'] / df[f'dribble_total__off__{sub}']\n",
      "/var/folders/wv/ptzsw2sx50dc4_j6b16q80sr0000gn/T/ipykernel_56102/3804909145.py:54: PerformanceWarning: DataFrame is highly fragmented.  This is usually the result of calling `frame.insert` many times, which has poor performance.  Consider joining all columns at once using pd.concat(axis=1) instead. To get a de-fragmented frame, use `newframe = frame.copy()`\n",
      "  df[f'dribble_Rate__def__{sub}'] = df[f'dribble_success__def__{sub}'] / df[f'dribble_total__def__{sub}']\n",
      "/var/folders/wv/ptzsw2sx50dc4_j6b16q80sr0000gn/T/ipykernel_56102/3804909145.py:59: PerformanceWarning: DataFrame is highly fragmented.  This is usually the result of calling `frame.insert` many times, which has poor performance.  Consider joining all columns at once using pd.concat(axis=1) instead. To get a de-fragmented frame, use `newframe = frame.copy()`\n",
      "  df[f'strength__off__{sub}'] = (wPerformance[f'passes'] * df[f'pass_success_Rate__off__{sub}'] +\n",
      "/var/folders/wv/ptzsw2sx50dc4_j6b16q80sr0000gn/T/ipykernel_56102/3804909145.py:64: PerformanceWarning: DataFrame is highly fragmented.  This is usually the result of calling `frame.insert` many times, which has poor performance.  Consider joining all columns at once using pd.concat(axis=1) instead. To get a de-fragmented frame, use `newframe = frame.copy()`\n",
      "  df[f'strength__def__{sub}'] = (wPerformance[f'passes'] * df[f'pass_success_Rate__def__{sub}'] +\n",
      "/var/folders/wv/ptzsw2sx50dc4_j6b16q80sr0000gn/T/ipykernel_56102/3804909145.py:69: PerformanceWarning: DataFrame is highly fragmented.  This is usually the result of calling `frame.insert` many times, which has poor performance.  Consider joining all columns at once using pd.concat(axis=1) instead. To get a de-fragmented frame, use `newframe = frame.copy()`\n",
      "  df[f'strength_diff__{sub}'] = df[f'strength__off__{sub}'] - df[f'strength__def__{sub}']\n"
     ]
    }
   ],
   "source": [
    "# ==================================== Pre-& Post-Substitution Differentials ==================================== #\n",
    "\n",
    "\"\"\"\n",
    "    Instead of looking at 'totals', we now compute:\n",
    "        \n",
    "        (i)  success rates, and \n",
    "        (ii) build a composite index of team-strength, composed of the success rates of\n",
    "             (ii.a) passes\n",
    "             (ii.b) shots\n",
    "             (ii.c) duels\n",
    "             (ii.d) interceptions\n",
    "             (ii.e) dribbles\n",
    "\n",
    "    ... for pre- & post-event segments.\n",
    "             \n",
    "\"\"\"\n",
    "\n",
    "\n",
    "\n",
    "# --------------------------------- USER INTERACTION --------------------------------- #\n",
    "\n",
    "# --- Weighting of Performance Components: [numbers have to sum up to 1!]\n",
    "wPerformance = {'passes':0.2,'shots':0.2,'duels':0.2,'interceptions':0.2,'dribbles':0.2}\n",
    "\n",
    "# --------------------------------- USER INTERACTION --------------------------------- #\n",
    "\n",
    "\n",
    "\n",
    "\n",
    "for sub in ['pre','post']:\n",
    "\n",
    "    # --- Strength Diff Rate Passes:\n",
    "    df[f'pass_success_Rate__off__{sub}'] = (df[f'pass_success_length__0_5__off__{sub}'] + df[f'pass_success_length__5_10__off__{sub}'] +\n",
    "                                        df[f'pass_success_length__10_20__off__{sub}'] + df[f'pass_success_length__20_40__off__{sub}'] +\n",
    "                                        df[f'pass_success_length__40__off__{sub}']) / df[f'pass_success_length__total__off__{sub}']\n",
    "    df[f'pass_success_Rate__def__{sub}'] = (df[f'pass_success_length__0_5__def__{sub}'] + df[f'pass_success_length__5_10__def__{sub}'] +\n",
    "                                        df[f'pass_success_length__10_20__def__{sub}'] + df[f'pass_success_length__20_40__def__{sub}'] +\n",
    "                                        df[f'pass_success_length__40__def__{sub}']) / df[f'pass_success_length__total__def__{sub}']\n",
    "    \n",
    "    # --- Strength Diff Rate Shots:\n",
    "    df[f'shots_target_Rate__off__{sub}'] = df[f'shots_target__off__{sub}'] / df[f'shots_total__off__{sub}']\n",
    "    df[f'shots_target_Rate__def__{sub}'] = df[f'shots_target__def__{sub}'] / df[f'shots_total__def__{sub}']\n",
    "    \n",
    "    # --- Strength Diff Interceptions:\n",
    "    df[f'interceptions_Rate__off__{sub}'] = df[f'interceptions_success__off__{sub}'] / df[f'interceptions_total__off__{sub}']\n",
    "    df[f'interceptions_Rate__def__{sub}'] = df[f'interceptions_success__def__{sub}'] / df[f'interceptions_total__def__{sub}']\n",
    "    \n",
    "    # --- Strength Diff Duels:\n",
    "    df[f'duel_Rate__off__{sub}'] = df[f'duel_success__off__{sub}'] / df[f'duel_total__off__{sub}']\n",
    "    df[f'duel_Rate__def__{sub}'] = df[f'duel_success__def__{sub}'] / df[f'duel_total__def__{sub}']\n",
    "    \n",
    "    # --- Strength Diff Dribble:\n",
    "    df[f'dribble_Rate__off__{sub}'] = df[f'dribble_success__off__{sub}'] / df[f'dribble_total__off__{sub}']\n",
    "    df[f'dribble_Rate__def__{sub}'] = df[f'dribble_success__def__{sub}'] / df[f'dribble_total__def__{sub}']\n",
    "    \n",
    "    \n",
    "    \n",
    "    # --- Strength Diff:\n",
    "    df[f'strength__off__{sub}'] = (wPerformance[f'passes'] * df[f'pass_success_Rate__off__{sub}'] + \n",
    "                                   wPerformance[f'shots'] * df[f'shots_target_Rate__off__{sub}'] + \n",
    "                                   wPerformance[f'duels'] * df[f'duel_Rate__off__{sub}'] + \n",
    "                                   wPerformance[f'interceptions'] * df[f'interceptions_Rate__off__{sub}'] + \n",
    "                                   wPerformance[f'dribbles'] * df[f'dribble_Rate__off__{sub}'])\n",
    "    df[f'strength__def__{sub}'] = (wPerformance[f'passes'] * df[f'pass_success_Rate__def__{sub}'] + \n",
    "                                   wPerformance[f'shots'] * df[f'shots_target_Rate__def__{sub}'] + \n",
    "                                   wPerformance[f'duels'] * df[f'duel_Rate__def__{sub}'] + \n",
    "                                   wPerformance[f'interceptions'] * df[f'interceptions_Rate__def__{sub}'] + \n",
    "                                   wPerformance[f'dribbles'] * df[f'dribble_Rate__def__{sub}'])\n",
    "    df[f'strength_diff__{sub}'] = df[f'strength__off__{sub}'] - df[f'strength__def__{sub}']\n",
    "\n",
    "\n",
    "\n",
    "\n"
   ]
  },
  {
   "cell_type": "markdown",
   "id": "16d4ad3a-62d1-42d1-88fd-07de808e6d52",
   "metadata": {
    "jp-MarkdownHeadingCollapsed": true
   },
   "source": [
    "<br>\n",
    "\n",
    "## 1. &emsp; Descriptive Statistics"
   ]
  },
  {
   "cell_type": "code",
   "execution_count": 9,
   "id": "17f90d20",
   "metadata": {},
   "outputs": [
    {
     "data": {
      "text/html": [
       "<div>\n",
       "<style scoped>\n",
       "    .dataframe tbody tr th:only-of-type {\n",
       "        vertical-align: middle;\n",
       "    }\n",
       "\n",
       "    .dataframe tbody tr th {\n",
       "        vertical-align: top;\n",
       "    }\n",
       "\n",
       "    .dataframe thead th {\n",
       "        text-align: right;\n",
       "    }\n",
       "</style>\n",
       "<table border=\"1\" class=\"dataframe\">\n",
       "  <thead>\n",
       "    <tr style=\"text-align: right;\">\n",
       "      <th></th>\n",
       "      <th>count</th>\n",
       "      <th>mean</th>\n",
       "      <th>std</th>\n",
       "      <th>min</th>\n",
       "      <th>25%</th>\n",
       "      <th>50%</th>\n",
       "      <th>75%</th>\n",
       "      <th>max</th>\n",
       "    </tr>\n",
       "  </thead>\n",
       "  <tbody>\n",
       "    <tr>\n",
       "      <th>match_id</th>\n",
       "      <td>4950.0</td>\n",
       "      <td>2980168.65</td>\n",
       "      <td>1554456.26</td>\n",
       "      <td>7298.00</td>\n",
       "      <td>3749349.00</td>\n",
       "      <td>3825627.50</td>\n",
       "      <td>3888699.75</td>\n",
       "      <td>4020005.00</td>\n",
       "    </tr>\n",
       "    <tr>\n",
       "      <th>team_off__id</th>\n",
       "      <td>4950.0</td>\n",
       "      <td>985.92</td>\n",
       "      <td>2096.45</td>\n",
       "      <td>1.00</td>\n",
       "      <td>176.00</td>\n",
       "      <td>229.00</td>\n",
       "      <td>919.00</td>\n",
       "      <td>29167.00</td>\n",
       "    </tr>\n",
       "    <tr>\n",
       "      <th>team_def__id</th>\n",
       "      <td>4950.0</td>\n",
       "      <td>829.58</td>\n",
       "      <td>1791.47</td>\n",
       "      <td>1.00</td>\n",
       "      <td>175.00</td>\n",
       "      <td>220.00</td>\n",
       "      <td>857.00</td>\n",
       "      <td>29167.00</td>\n",
       "    </tr>\n",
       "    <tr>\n",
       "      <th>team_off__score60</th>\n",
       "      <td>4950.0</td>\n",
       "      <td>0.23</td>\n",
       "      <td>0.47</td>\n",
       "      <td>0.00</td>\n",
       "      <td>0.00</td>\n",
       "      <td>0.00</td>\n",
       "      <td>0.00</td>\n",
       "      <td>3.00</td>\n",
       "    </tr>\n",
       "    <tr>\n",
       "      <th>team_def__score60</th>\n",
       "      <td>4950.0</td>\n",
       "      <td>1.79</td>\n",
       "      <td>0.95</td>\n",
       "      <td>1.00</td>\n",
       "      <td>1.00</td>\n",
       "      <td>2.00</td>\n",
       "      <td>2.00</td>\n",
       "      <td>9.00</td>\n",
       "    </tr>\n",
       "    <tr>\n",
       "      <th>...</th>\n",
       "      <td>...</td>\n",
       "      <td>...</td>\n",
       "      <td>...</td>\n",
       "      <td>...</td>\n",
       "      <td>...</td>\n",
       "      <td>...</td>\n",
       "      <td>...</td>\n",
       "      <td>...</td>\n",
       "    </tr>\n",
       "    <tr>\n",
       "      <th>dribble_Rate__off__post</th>\n",
       "      <td>3750.0</td>\n",
       "      <td>0.55</td>\n",
       "      <td>0.36</td>\n",
       "      <td>0.00</td>\n",
       "      <td>0.33</td>\n",
       "      <td>0.55</td>\n",
       "      <td>1.00</td>\n",
       "      <td>1.00</td>\n",
       "    </tr>\n",
       "    <tr>\n",
       "      <th>dribble_Rate__def__post</th>\n",
       "      <td>3885.0</td>\n",
       "      <td>0.58</td>\n",
       "      <td>0.36</td>\n",
       "      <td>0.00</td>\n",
       "      <td>0.33</td>\n",
       "      <td>0.60</td>\n",
       "      <td>1.00</td>\n",
       "      <td>1.00</td>\n",
       "    </tr>\n",
       "    <tr>\n",
       "      <th>strength__off__post</th>\n",
       "      <td>2082.0</td>\n",
       "      <td>0.54</td>\n",
       "      <td>0.13</td>\n",
       "      <td>0.20</td>\n",
       "      <td>0.45</td>\n",
       "      <td>0.54</td>\n",
       "      <td>0.63</td>\n",
       "      <td>0.83</td>\n",
       "    </tr>\n",
       "    <tr>\n",
       "      <th>strength__def__post</th>\n",
       "      <td>2267.0</td>\n",
       "      <td>0.54</td>\n",
       "      <td>0.13</td>\n",
       "      <td>0.20</td>\n",
       "      <td>0.45</td>\n",
       "      <td>0.55</td>\n",
       "      <td>0.63</td>\n",
       "      <td>0.86</td>\n",
       "    </tr>\n",
       "    <tr>\n",
       "      <th>strength_diff__post</th>\n",
       "      <td>1280.0</td>\n",
       "      <td>-0.01</td>\n",
       "      <td>0.17</td>\n",
       "      <td>-0.59</td>\n",
       "      <td>-0.11</td>\n",
       "      <td>-0.01</td>\n",
       "      <td>0.10</td>\n",
       "      <td>0.53</td>\n",
       "    </tr>\n",
       "  </tbody>\n",
       "</table>\n",
       "<p>142 rows × 8 columns</p>\n",
       "</div>"
      ],
      "text/plain": [
       "                          count        mean         std      min         25%  \\\n",
       "match_id                 4950.0  2980168.65  1554456.26  7298.00  3749349.00   \n",
       "team_off__id             4950.0      985.92     2096.45     1.00      176.00   \n",
       "team_def__id             4950.0      829.58     1791.47     1.00      175.00   \n",
       "team_off__score60        4950.0        0.23        0.47     0.00        0.00   \n",
       "team_def__score60        4950.0        1.79        0.95     1.00        1.00   \n",
       "...                         ...         ...         ...      ...         ...   \n",
       "dribble_Rate__off__post  3750.0        0.55        0.36     0.00        0.33   \n",
       "dribble_Rate__def__post  3885.0        0.58        0.36     0.00        0.33   \n",
       "strength__off__post      2082.0        0.54        0.13     0.20        0.45   \n",
       "strength__def__post      2267.0        0.54        0.13     0.20        0.45   \n",
       "strength_diff__post      1280.0       -0.01        0.17    -0.59       -0.11   \n",
       "\n",
       "                                50%         75%         max  \n",
       "match_id                 3825627.50  3888699.75  4020005.00  \n",
       "team_off__id                 229.00      919.00    29167.00  \n",
       "team_def__id                 220.00      857.00    29167.00  \n",
       "team_off__score60              0.00        0.00        3.00  \n",
       "team_def__score60              2.00        2.00        9.00  \n",
       "...                             ...         ...         ...  \n",
       "dribble_Rate__off__post        0.55        1.00        1.00  \n",
       "dribble_Rate__def__post        0.60        1.00        1.00  \n",
       "strength__off__post            0.54        0.63        0.83  \n",
       "strength__def__post            0.55        0.63        0.86  \n",
       "strength_diff__post           -0.01        0.10        0.53  \n",
       "\n",
       "[142 rows x 8 columns]"
      ]
     },
     "execution_count": 9,
     "metadata": {},
     "output_type": "execute_result"
    }
   ],
   "source": [
    "# =================================== 1.1 Some Preliminary Summary Statistics =================================== #\n",
    "\n",
    "df.describe().T.round(2)"
   ]
  },
  {
   "cell_type": "code",
   "execution_count": 10,
   "id": "83010256",
   "metadata": {},
   "outputs": [
    {
     "name": "stdout",
     "output_type": "stream",
     "text": [
      "\n",
      "Treatment Distribution:\n",
      "  No substitution: 117 (5.0%)\n",
      "  Substitution:    2210 (95.0%)\n"
     ]
    }
   ],
   "source": [
    "# =================================== 1.2 Number of Games with Substitutions made =================================== #\n",
    "\n",
    "\n",
    "# --- Number of Matches:\n",
    "matchID = df['match_id'].unique().tolist()\n",
    "# --- Number of Matches with Substitutions:\n",
    "matchID__Sub = list(df.loc[df['substitution_replacementNumber__off'].dropna().index,:]['match_id'].unique())\n",
    "# --- Number of Matches with no Substitution:\n",
    "matchID__noSub = list(df.loc[df['substitution_replacementNumber__off'].isna(),:]['match_id'].unique())\n",
    "\n",
    "\n",
    "\n",
    "print(\"\\nTreatment Distribution:\")\n",
    "print(f\"  No substitution: {len(matchID__noSub)} ({len(matchID__noSub) / len(matchID):.1%})\")\n",
    "print(f\"  Substitution:    {len(matchID__Sub)} ({len(matchID__Sub) / len(matchID):.1%})\")"
   ]
  },
  {
   "cell_type": "code",
   "execution_count": 11,
   "id": "3dacfb21-aabd-4834-a026-e7cd4bc53498",
   "metadata": {},
   "outputs": [
    {
     "data": {
      "image/png": "[encoded data removed]",
      "text/plain": [
       "<Figure size 1000x800 with 2 Axes>"
      ]
     },
     "metadata": {},
     "output_type": "display_data"
    }
   ],
   "source": [
    "# =================================== 1.3 Inspect Correlations =================================== #\n",
    "\n",
    "\n",
    "# --- Variables to inspect:\n",
    "key_vars = list(np.unique([\"sub\",\"score_diff\"] + [f'{o}_perMin__off__pre' for o in OUTCOMES] + [f'strength_diff__{o}' for o in OUTCOMES]))\n",
    "\n",
    "# --- Correlation matrix of key variables:\n",
    "correlation_matrix = df[key_vars].corr()\n",
    "\n",
    "# --- Plot the Matrix:\n",
    "plt.figure(figsize=(10, 8))\n",
    "sns.heatmap(correlation_matrix, annot=True, cmap=\"coolwarm\", center=0, square=True, fmt=\".2f\")\n",
    "plt.title(\"Correlation Matrix of Key Variables\")\n",
    "plt.tight_layout()\n",
    "if SAVE_FIG:\n",
    "    plt.savefig(OUTPUT_DIR / \"correlation_matrix.png\", dpi=300, bbox_inches=\"tight\")\n",
    "    print(\"\\nCorrelation matrix saved to output directory.\")\n",
    "plt.show()\n",
    "\n"
   ]
  },
  {
   "cell_type": "code",
   "execution_count": 12,
   "id": "41068781-b996-428f-9c3a-3fa23872ccfc",
   "metadata": {},
   "outputs": [
    {
     "name": "stdout",
     "output_type": "stream",
     "text": [
      "\n",
      "Correlation between Score Differential & Treatment Assignment: 0.071\n",
      "\n",
      "Correlation between Score Differential & Outcomes:\n",
      "\n",
      "shots_perMin__off__DIFF: -0.001\n",
      "goals_perMin__off__DIFF: -0.001\n",
      "passes_perMin__off__DIFF: -0.048\n"
     ]
    }
   ],
   "source": [
    "# ================================== 1.4 Zooming in on Score Differential ================================== #\n",
    "\n",
    "print(f\"\\nCorrelation between Score Differential & Treatment Assignment: {df[\"score_diff\"].corr(df[\"sub\"]):.3f}\")\n",
    "\n",
    "print(\"\\nCorrelation between Score Differential & Outcomes:\\n\")\n",
    "for outcome in [f'{o}_perMin__off__DIFF' for o in OUTCOMES]:\n",
    "    corr = df[\"score_diff\"].corr(df[outcome])\n",
    "    print(f\"{outcome}: {corr:.3f}\")"
   ]
  },
  {
   "cell_type": "code",
   "execution_count": 13,
   "id": "eac4eea1-3526-47af-a551-f45ec51232af",
   "metadata": {},
   "outputs": [
    {
     "data": {
      "image/png": "[encoded data removed]",
      "text/plain": [
       "<Figure size 800x550 with 1 Axes>"
      ]
     },
     "metadata": {},
     "output_type": "display_data"
    }
   ],
   "source": [
    "# ================================== 1.5 Distribution of Score Differentials ================================== #\n",
    "\n",
    "# --- Count by Unique Match-ID:\n",
    "df_plot = df.groupby([\"score_diff\",'match_id'])[\"sub\"].sum().reset_index().copy()\n",
    "\n",
    "(df_plot.groupby(\"score_diff\")[\"sub\"].count() / df_plot.shape[0] * 100).plot.bar(\n",
    "    rot=0, ylabel=\"Percentage of Total Matches\", title=\"Frequency of observed Score Differentials\", xlabel=\"Score Differential\"\n",
    ");"
   ]
  },
  {
   "cell_type": "code",
   "execution_count": 14,
   "id": "3415aa04-a22a-444c-8d08-e7d735bdf95e",
   "metadata": {},
   "outputs": [
    {
     "data": {
      "image/png": "[encoded data removed]",
      "text/plain": [
       "<Figure size 800x550 with 1 Axes>"
      ]
     },
     "metadata": {},
     "output_type": "display_data"
    }
   ],
   "source": [
    "# ================================== 1.6 How does Substitution vary with Score Differential? ================================== #\n",
    "\n",
    "# --- Count by Unique Match-ID:\n",
    "df_plot = df.groupby([\"score_diff\",'match_id'])[\"sub\"].sum().reset_index().copy()\n",
    "df_plot['sub'] = np.where(df_plot['sub'] > 0 ,1,0)\n",
    "\n",
    "(df_plot.groupby(\"score_diff\")[\"sub\"].sum() / df_plot.groupby(\"score_diff\")[\"sub\"].count()).plot.bar(\n",
    "    rot=0, ylabel=\"Share of Matches with Substitution\", title=\"Substitution Rate by Score Differential\", xlabel=\"Score Differential\"\n",
    ");"
   ]
  },
  {
   "cell_type": "markdown",
   "id": "d85803a8-36dd-4718-9531-1b63c4caacff",
   "metadata": {},
   "source": [
    "<br>\n",
    "\n",
    "## 2. &emsp; A Bayesian Model for Predicting the Impact"
   ]
  },
  {
   "cell_type": "markdown",
   "id": "72e121d9-4d59-4fcc-bcc5-8a7aff3572c9",
   "metadata": {},
   "source": [
    "The model reads:\n",
    "\n",
    "\\begin{align}\n",
    "    Y_i \\; = \\; \\alpha \\; + \\; \\beta_{sub} \\, T_i + \\mathbf{X}_i \\, \\mathbf{\\gamma}^{'} \\; + \\; \\varepsilon_i \\quad ,\n",
    "\\end{align}\n",
    "\n",
    "where $i$ denotes the *event* or *state* of a given match either at the time when a substitution by the lagging team was made, or -- in case the lagging team abstained from making a substitution after minute 60, despite being down by at least one goal -- the state in Minute 59.\n",
    "\n",
    "$Y$ is the target, i.e. outcome variable. $T = \\left\\lbrace 0,1\\right\\rbrace$ is the *treatment variable*, i.e. a dummy that indicates whether the lagging team made a substitution or not.  \n",
    "\n",
    "$\\mathbf{X}$ is a vector of features containing `score_diff`, `strength__off__pre`,`strength__def__pre`. \n",
    "\n",
    "In **Section 2.1**, we set $Y$ to be the *difference* of the outcome variable between the its *post-* and *pre-* event value. That is, if $T=1$, it is the *difference* between the value *after* and *before* a substitution was made, respectively the *difference* of the outcome variable *after* and *before* the 60$^\\text{th}$ minute, if $T=0$.\n",
    "\n",
    "Instead, in **Section 2.2**, $Y$ is the observed value of the outcome variable in the *post-event* segment, and not the difference between the *post-* and *pre-event* segment. We thus include $Y_{off, \\rightarrow i}$, i.e. the value of the outcome variable of the laggging team recorded up until event $i$, among the features $\\mathbf{X}$.\n",
    "E.g., if $Y$ is `passes_perMin__off__post` (the number of successfull passes per minute in the post-event segment), then $Y_{off, \\rightarrow i}$ is the total number of passes made by the lagging team up until the minute of event $i$."
   ]
  },
  {
   "cell_type": "code",
   "execution_count": 15,
   "id": "22674af4-ab20-4231-9df8-6645e75a3b5f",
   "metadata": {},
   "outputs": [
    {
     "data": {
      "text/plain": [
       "['match_status',\n",
       " 'match_id',\n",
       " 'competition',\n",
       " 'season',\n",
       " 'team_off',\n",
       " 'team_off__id',\n",
       " 'team_def',\n",
       " 'team_def__id',\n",
       " 'team_off__score60',\n",
       " 'team_def__score60',\n",
       " 'substitution_replacement__off',\n",
       " 'substitution_replacementNumber__off',\n",
       " 'substitution_minute__off',\n",
       " 'substitution_minuteDelta__off',\n",
       " 'clearances_total__off__pre',\n",
       " 'clearances_total__off__post',\n",
       " 'clearances_total__def__pre',\n",
       " 'clearances_total__def__post',\n",
       " 'dribble_total__off__pre',\n",
       " 'dribble_total__off__post',\n",
       " 'dribble_total__def__pre',\n",
       " 'dribble_total__def__post',\n",
       " 'dribble_success__off__pre',\n",
       " 'dribble_success__off__post',\n",
       " 'dribble_success__def__pre',\n",
       " 'dribble_success__def__post',\n",
       " 'duel_total__off__pre',\n",
       " 'duel_total__off__post',\n",
       " 'duel_total__def__pre',\n",
       " 'duel_total__def__post',\n",
       " 'duel_success__off__pre',\n",
       " 'duel_success__off__post',\n",
       " 'duel_success__def__pre',\n",
       " 'duel_success__def__post',\n",
       " 'fouls_committed__off__pre',\n",
       " 'fouls_committed__off__post',\n",
       " 'fouls_committed__def__pre',\n",
       " 'fouls_committed__def__post',\n",
       " 'interceptions_total__off__pre',\n",
       " 'interceptions_total__off__post',\n",
       " 'interceptions_total__def__pre',\n",
       " 'interceptions_total__def__post',\n",
       " 'interceptions_success__off__pre',\n",
       " 'interceptions_success__off__post',\n",
       " 'interceptions_success__def__pre',\n",
       " 'interceptions_success__def__post',\n",
       " 'pass_shot_assist__off__pre',\n",
       " 'pass_shot_assist__off__post',\n",
       " 'pass_shot_assist__def__pre',\n",
       " 'pass_shot_assist__def__post',\n",
       " 'pass_goal_assist__off__pre',\n",
       " 'pass_goal_assist__off__post',\n",
       " 'pass_goal_assist__def__pre',\n",
       " 'pass_goal_assist__def__post',\n",
       " 'pass_success_length__total__off__pre',\n",
       " 'pass_success_length__total__off__post',\n",
       " 'pass_success_length__total__def__pre',\n",
       " 'pass_success_length__total__def__post',\n",
       " 'pass_success_length__0_5__off__pre',\n",
       " 'pass_success_length__0_5__off__post',\n",
       " 'pass_success_length__0_5__def__pre',\n",
       " 'pass_success_length__0_5__def__post',\n",
       " 'pass_success_length__5_10__off__pre',\n",
       " 'pass_success_length__5_10__off__post',\n",
       " 'pass_success_length__5_10__def__pre',\n",
       " 'pass_success_length__5_10__def__post',\n",
       " 'pass_success_length__10_20__off__pre',\n",
       " 'pass_success_length__10_20__off__post',\n",
       " 'pass_success_length__10_20__def__pre',\n",
       " 'pass_success_length__10_20__def__post',\n",
       " 'pass_success_length__20_40__off__pre',\n",
       " 'pass_success_length__20_40__off__post',\n",
       " 'pass_success_length__20_40__def__pre',\n",
       " 'pass_success_length__20_40__def__post',\n",
       " 'pass_success_length__40__off__pre',\n",
       " 'pass_success_length__40__off__post',\n",
       " 'pass_success_length__40__def__pre',\n",
       " 'pass_success_length__40__def__post',\n",
       " 'passes_total__off__pre',\n",
       " 'passes_total__off__post',\n",
       " 'passes_total__def__pre',\n",
       " 'passes_total__def__post',\n",
       " 'passes_success__off__pre',\n",
       " 'passes_success__off__post',\n",
       " 'passes_success__def__pre',\n",
       " 'passes_success__def__post',\n",
       " 'shots_total__off__pre',\n",
       " 'shots_total__off__post',\n",
       " 'shots_total__def__pre',\n",
       " 'shots_total__def__post',\n",
       " 'shots_target__off__pre',\n",
       " 'shots_target__off__post',\n",
       " 'shots_target__def__pre',\n",
       " 'shots_target__def__post',\n",
       " 'goals_scored__off__pre',\n",
       " 'goals_scored__off__post',\n",
       " 'goals_scored__def__pre',\n",
       " 'goals_scored__def__post',\n",
       " 'substitution_tactical__off__pre',\n",
       " 'substitution_tactical__off__post',\n",
       " 'substitution_tactical__def__pre',\n",
       " 'substitution_tactical__def__post',\n",
       " 'score_diff',\n",
       " 'sub',\n",
       " 'passes_perMin__off__pre',\n",
       " 'passes_perMin__off__post',\n",
       " 'shots_perMin__off__pre',\n",
       " 'shots_perMin__off__post',\n",
       " 'goals_perMin__off__pre',\n",
       " 'goals_perMin__off__post',\n",
       " 'passes_perMin__def__pre',\n",
       " 'passes_perMin__def__post',\n",
       " 'shots_perMin__def__pre',\n",
       " 'shots_perMin__def__post',\n",
       " 'goals_perMin__def__pre',\n",
       " 'goals_perMin__def__post',\n",
       " 'strength_diff__passes',\n",
       " 'strength_diff__shots',\n",
       " 'strength_diff__goals',\n",
       " 'passes_perMin__off__DIFF',\n",
       " 'shots_perMin__off__DIFF',\n",
       " 'goals_perMin__off__DIFF',\n",
       " 'pass_success_Rate__off__pre',\n",
       " 'pass_success_Rate__def__pre',\n",
       " 'shots_target_Rate__off__pre',\n",
       " 'shots_target_Rate__def__pre',\n",
       " 'interceptions_Rate__off__pre',\n",
       " 'interceptions_Rate__def__pre',\n",
       " 'duel_Rate__off__pre',\n",
       " 'duel_Rate__def__pre',\n",
       " 'dribble_Rate__off__pre',\n",
       " 'dribble_Rate__def__pre',\n",
       " 'strength__off__pre',\n",
       " 'strength__def__pre',\n",
       " 'strength_diff__pre',\n",
       " 'pass_success_Rate__off__post',\n",
       " 'pass_success_Rate__def__post',\n",
       " 'shots_target_Rate__off__post',\n",
       " 'shots_target_Rate__def__post',\n",
       " 'interceptions_Rate__off__post',\n",
       " 'interceptions_Rate__def__post',\n",
       " 'duel_Rate__off__post',\n",
       " 'duel_Rate__def__post',\n",
       " 'dribble_Rate__off__post',\n",
       " 'dribble_Rate__def__post',\n",
       " 'strength__off__post',\n",
       " 'strength__def__post',\n",
       " 'strength_diff__post']"
      ]
     },
     "execution_count": 15,
     "metadata": {},
     "output_type": "execute_result"
    }
   ],
   "source": [
    "df.columns.tolist()"
   ]
  },
  {
   "cell_type": "markdown",
   "id": "ac5e124c-1195-4ca5-8949-4a9a859a1a0f",
   "metadata": {},
   "source": [
    "<br>\n",
    "\n",
    "### 2.1 &emsp; $Y$: &ensp; Difference between post- & pre-Event Performance\n",
    "\n",
    "\n",
    "Here, $Y$ is the *difference* of the outcome variable between the its *post-* and *pre-* event value. That is, if $T=1$, it is the *difference* between the value *after* and *before* a substitution was made, respectively the *difference* of the outcome variable *after* and *before* the 60$^\\text{th}$ minute, if $T=0$."
   ]
  },
  {
   "cell_type": "code",
   "execution_count": 46,
   "id": "83d8c0df-437b-401c-8a70-1147d3ced957",
   "metadata": {},
   "outputs": [],
   "source": [
    "# --------------------------------- USER INTERACTION --------------------------------- #\n",
    "\n",
    "# --- Which is the outcome (Y) you are interested in to analyze? ['passes','shots','goals']\n",
    "target = \"passes\"\n",
    "\n",
    "# --- Transform the target? [None; 'log']\n",
    "target_transform = 'log'\n",
    "\n",
    "# --- Set the Features you want to include:\n",
    "features = ['sub','score_diff','strength__off__pre','strength__def__pre']\n",
    "\n",
    "# --------------------------------- USER INTERACTION --------------------------------- #\n",
    "\n",
    "\n",
    "# --- Outcome Label:\n",
    "outcome_label = f'{target}_perMin__off__DIFF' \n",
    "\n",
    "# --- Regression Matrix:\n",
    "df_reg = df[features+[outcome_label]].dropna().copy()\n",
    "\n",
    "# --- If log-Transformation was requested:\n",
    "if target_transform == 'log':\n",
    "    df_reg[outcome_label] = np.log(df_reg[outcome_label])\n",
    "\n",
    "\n",
    "\n",
    "COORDS = {\n",
    "    'obs_id': df_reg.index,\n",
    "    'features': features,\n",
    "}\n"
   ]
  },
  {
   "cell_type": "code",
   "execution_count": 47,
   "id": "9e0fcf77-9e5e-4141-b132-d282821a9ae3",
   "metadata": {},
   "outputs": [
    {
     "data": {
      "image/png": "[encoded data removed]",
      "text/plain": [
       "<Figure size 800x500 with 1 Axes>"
      ]
     },
     "metadata": {},
     "output_type": "display_data"
    },
    {
     "name": "stdout",
     "output_type": "stream",
     "text": [
      "\n",
      "Mean:       1.38\n",
      "SD:         0.45\n",
      "Skew:      -1.51\n",
      "Kurtosis:   8.27\n"
     ]
    }
   ],
   "source": [
    "\n",
    "# --- Get the Target:\n",
    "s_plot = df_reg[outcome_label].copy()\n",
    "\n",
    "fig,ax=plt.subplots(figsize=(8,5))\n",
    "sns.histplot(x=s_plot.values,ax=ax)\n",
    "plt.ylabel('')\n",
    "plt.xlabel('')\n",
    "plt.legend('')\n",
    "plt.show()\n",
    "\n",
    "# --- Some Summary Statistics:\n",
    "\n",
    "print(f'\\nMean:      {s_plot.mean(): .2f}')\n",
    "print(f'SD:        {s_plot.std(): .2f}')\n",
    "print(f'Skew:      {s_plot.skew(): .2f}')\n",
    "print(f'Kurtosis:  {s_plot.kurt()+3: .2f}')\n"
   ]
  },
  {
   "cell_type": "code",
   "execution_count": 88,
   "id": "880141a0-a297-4f6f-afea-7dd139cadeee",
   "metadata": {},
   "outputs": [],
   "source": [
    "\n",
    "with pm.Model(coords=COORDS) as CausalSoccer_model:\n",
    "    \n",
    "    # ================================== Set the Data ================================== #\n",
    "    X = pm.Data('X',df_reg[features].to_numpy(),dims=('obs_id','features'))\n",
    "    Y = pm.Data('Y',df_reg[outcome_label].to_numpy(),dims='obs_id')\n",
    "    \n",
    "\n",
    "    # ================================== Set the priors ================================== #\n",
    "\n",
    "    # -------------------------------- Alpha -------------------------------- # \n",
    "   \n",
    "    # --- Hyperparameter: Standard-Deviation:\n",
    "    sigma__alpha = pm.HalfNormal('sigma__alpha',sigma=3)\n",
    "    #sigma__alpha = pm.Exponential('sigma__alpha',lam=1)\n",
    "    \n",
    "\n",
    "    # --- League-Specific\n",
    "    alpha = pm.Normal('alpha', mu=df_reg[outcome_label].mean(), sigma=sigma__alpha)\n",
    "\n",
    "\n",
    "    # -------------------------------- Betas -------------------------------- # \n",
    "\n",
    "    # --- Variation in the loadings:\n",
    "    sigma_betas = pm.HalfNormal('sigma_betas',sigma=3,dims='features')\n",
    "    #sigma_betas = pm.Exponential('sigma_betas',lam=0.5,dims='features')\n",
    "\n",
    "    # --- Loadings: Pooled across all players & leagues\n",
    "    betas = pm.Normal('betas',mu=0,sigma=sigma_betas,dims='features')\n",
    "\n",
    "\n",
    "    # ---------------------- Prior for the Variance of the Student-T used to model the Target ------------------- # \n",
    "    # ---> set it a bit looser\n",
    "    sigma_lik = pm.HalfNormal('sigma_lik',sigma=3)\n",
    "    #sigma_lik = pm.Exponential('sigma_lik',lam=0.5)\n",
    "\n",
    "    \n",
    "    # ---------------------- Degrees of Freedom of Student-T used to model the Target ------------------- # \n",
    "    nu_lik = pm.HalfNormal('nu_lik',sigma=0.1)\n",
    "    #nu_lik = pm.Exponential('nu_lik',lam=0.1)\n",
    "\n",
    "\n",
    "    \n",
    "    # ================================== Compute the Conditional Mean ================================== #\n",
    "    dgp = pm.Deterministic('dgp', alpha + X @ betas, dims='obs_id')\n",
    "\n",
    "\n",
    "    # ================================== Likelihood ================================== #\n",
    "\n",
    "    likelihood = pm.StudentT('likelihood',\n",
    "                             mu=dgp, \n",
    "                             sigma=sigma_lik, \n",
    "                             nu=nu_lik,\n",
    "                             observed=Y, \n",
    "                             dims='obs_id')\n",
    "\n",
    "    "
   ]
  },
  {
   "cell_type": "code",
   "execution_count": 89,
   "id": "50b6f714-f754-4bbc-af1b-68d50c15cbbe",
   "metadata": {},
   "outputs": [
    {
     "data": {
      "image/svg+xml": [
       "<?xml version=\"1.0\" encoding=\"UTF-8\" standalone=\"no\"?>\n",
       "<!DOCTYPE svg PUBLIC \"-//W3C//DTD SVG 1.1//EN\"\n",
       " \"http://www.w3.org/Graphics/SVG/1.1/DTD/svg11.dtd\">\n",
       "<!-- Generated by graphviz version 13.1.2 (0)\n",
       " -->\n",
       "<!-- Pages: 1 -->\n",
       "<svg width=\"754pt\" height=\"596pt\"\n",
       " viewBox=\"0.00 0.00 754.00 596.00\" xmlns=\"http://www.w3.org/2000/svg\" xmlns:xlink=\"http://www.w3.org/1999/xlink\">\n",
       "<g id=\"graph0\" class=\"graph\" transform=\"scale(1 1) rotate(0) translate(4 591.77)\">\n",
       "<polygon fill=\"white\" stroke=\"none\" points=\"-4,4 -4,-591.77 749.98,-591.77 749.98,4 -4,4\"/>\n",
       "<g id=\"clust1\" class=\"cluster\">\n",
       "<title>clusterobs_id (4688) x features (5)</title>\n",
       "<path fill=\"none\" stroke=\"black\" d=\"M20,-352.54C20,-352.54 164,-352.54 164,-352.54 170,-352.54 176,-358.54 176,-364.54 176,-364.54 176,-438.54 176,-438.54 176,-444.54 170,-450.54 164,-450.54 164,-450.54 20,-450.54 20,-450.54 14,-450.54 8,-444.54 8,-438.54 8,-438.54 8,-364.54 8,-364.54 8,-358.54 14,-352.54 20,-352.54\"/>\n",
       "<text xml:space=\"preserve\" text-anchor=\"middle\" x=\"91.88\" y=\"-359.74\" font-family=\"Times,serif\" font-size=\"14.00\">obs_id (4688) x features (5)</text>\n",
       "</g>\n",
       "<g id=\"clust2\" class=\"cluster\">\n",
       "<title>clusterobs_id (4688)</title>\n",
       "<path fill=\"none\" stroke=\"black\" d=\"M162,-8C162,-8 290,-8 290,-8 296,-8 302,-14 302,-20 302,-20 302,-316.73 302,-316.73 302,-322.73 296,-328.73 290,-328.73 290,-328.73 162,-328.73 162,-328.73 156,-328.73 150,-322.73 150,-316.73 150,-316.73 150,-20 150,-20 150,-14 156,-8 162,-8\"/>\n",
       "<text xml:space=\"preserve\" text-anchor=\"middle\" x=\"256.12\" y=\"-15.2\" font-family=\"Times,serif\" font-size=\"14.00\">obs_id (4688)</text>\n",
       "</g>\n",
       "<g id=\"clust3\" class=\"cluster\">\n",
       "<title>clusterfeatures (5)</title>\n",
       "<path fill=\"none\" stroke=\"black\" d=\"M288,-340.63C288,-340.63 398,-340.63 398,-340.63 404,-340.63 410,-346.63 410,-352.63 410,-352.63 410,-567.77 410,-567.77 410,-573.77 404,-579.77 398,-579.77 398,-579.77 288,-579.77 288,-579.77 282,-579.77 276,-573.77 276,-567.77 276,-567.77 276,-352.63 276,-352.63 276,-346.63 282,-340.63 288,-340.63\"/>\n",
       "<text xml:space=\"preserve\" text-anchor=\"middle\" x=\"370.88\" y=\"-347.83\" font-family=\"Times,serif\" font-size=\"14.00\">features (5)</text>\n",
       "</g>\n",
       "<!-- X -->\n",
       "<g id=\"node1\" class=\"node\">\n",
       "<title>X</title>\n",
       "<path fill=\"lightgrey\" stroke=\"black\" d=\"M155,-442.54C155,-442.54 125,-442.54 125,-442.54 119,-442.54 113,-436.54 113,-430.54 113,-430.54 113,-397.04 113,-397.04 113,-391.04 119,-385.04 125,-385.04 125,-385.04 155,-385.04 155,-385.04 161,-385.04 167,-391.04 167,-397.04 167,-397.04 167,-430.54 167,-430.54 167,-436.54 161,-442.54 155,-442.54\"/>\n",
       "<text xml:space=\"preserve\" text-anchor=\"middle\" x=\"140\" y=\"-425.24\" font-family=\"Times,serif\" font-size=\"14.00\">X</text>\n",
       "<text xml:space=\"preserve\" text-anchor=\"middle\" x=\"140\" y=\"-408.74\" font-family=\"Times,serif\" font-size=\"14.00\">~</text>\n",
       "<text xml:space=\"preserve\" text-anchor=\"middle\" x=\"140\" y=\"-392.24\" font-family=\"Times,serif\" font-size=\"14.00\">Data</text>\n",
       "</g>\n",
       "<!-- dgp -->\n",
       "<g id=\"node2\" class=\"node\">\n",
       "<title>dgp</title>\n",
       "<polygon fill=\"none\" stroke=\"black\" points=\"271.12,-320.73 180.88,-320.73 180.88,-263.23 271.12,-263.23 271.12,-320.73\"/>\n",
       "<text xml:space=\"preserve\" text-anchor=\"middle\" x=\"226\" y=\"-303.43\" font-family=\"Times,serif\" font-size=\"14.00\">dgp</text>\n",
       "<text xml:space=\"preserve\" text-anchor=\"middle\" x=\"226\" y=\"-286.93\" font-family=\"Times,serif\" font-size=\"14.00\">~</text>\n",
       "<text xml:space=\"preserve\" text-anchor=\"middle\" x=\"226\" y=\"-270.43\" font-family=\"Times,serif\" font-size=\"14.00\">Deterministic</text>\n",
       "</g>\n",
       "<!-- X&#45;&gt;dgp -->\n",
       "<g id=\"edge5\" class=\"edge\">\n",
       "<title>X&#45;&gt;dgp</title>\n",
       "<path fill=\"none\" stroke=\"black\" d=\"M151.24,-384.78C157.49,-370.85 166.02,-354.15 176,-340.63 178.8,-336.84 181.93,-333.08 185.21,-329.44\"/>\n",
       "<polygon fill=\"black\" stroke=\"black\" points=\"187.66,-331.95 192.02,-322.29 182.59,-327.12 187.66,-331.95\"/>\n",
       "</g>\n",
       "<!-- likelihood -->\n",
       "<g id=\"node4\" class=\"node\">\n",
       "<title>likelihood</title>\n",
       "<ellipse fill=\"lightgrey\" stroke=\"black\" cx=\"226\" cy=\"-174.66\" rx=\"67.53\" ry=\"40.66\"/>\n",
       "<text xml:space=\"preserve\" text-anchor=\"middle\" x=\"226\" y=\"-186.11\" font-family=\"Times,serif\" font-size=\"14.00\">likelihood</text>\n",
       "<text xml:space=\"preserve\" text-anchor=\"middle\" x=\"226\" y=\"-169.61\" font-family=\"Times,serif\" font-size=\"14.00\">~</text>\n",
       "<text xml:space=\"preserve\" text-anchor=\"middle\" x=\"226\" y=\"-153.11\" font-family=\"Times,serif\" font-size=\"14.00\">SkewStudentT</text>\n",
       "</g>\n",
       "<!-- dgp&#45;&gt;likelihood -->\n",
       "<g id=\"edge8\" class=\"edge\">\n",
       "<title>dgp&#45;&gt;likelihood</title>\n",
       "<path fill=\"none\" stroke=\"black\" d=\"M226,-262.77C226,-251.94 226,-239.23 226,-226.91\"/>\n",
       "<polygon fill=\"black\" stroke=\"black\" points=\"229.5,-227.28 226,-217.28 222.5,-227.28 229.5,-227.28\"/>\n",
       "</g>\n",
       "<!-- Y -->\n",
       "<g id=\"node3\" class=\"node\">\n",
       "<title>Y</title>\n",
       "<path fill=\"lightgrey\" stroke=\"black\" d=\"M241,-98C241,-98 211,-98 211,-98 205,-98 199,-92 199,-86 199,-86 199,-52.5 199,-52.5 199,-46.5 205,-40.5 211,-40.5 211,-40.5 241,-40.5 241,-40.5 247,-40.5 253,-46.5 253,-52.5 253,-52.5 253,-86 253,-86 253,-92 247,-98 241,-98\"/>\n",
       "<text xml:space=\"preserve\" text-anchor=\"middle\" x=\"226\" y=\"-80.7\" font-family=\"Times,serif\" font-size=\"14.00\">Y</text>\n",
       "<text xml:space=\"preserve\" text-anchor=\"middle\" x=\"226\" y=\"-64.2\" font-family=\"Times,serif\" font-size=\"14.00\">~</text>\n",
       "<text xml:space=\"preserve\" text-anchor=\"middle\" x=\"226\" y=\"-47.7\" font-family=\"Times,serif\" font-size=\"14.00\">Data</text>\n",
       "</g>\n",
       "<!-- likelihood&#45;&gt;Y -->\n",
       "<g id=\"edge1\" class=\"edge\">\n",
       "<title>likelihood&#45;&gt;Y</title>\n",
       "<path fill=\"none\" stroke=\"black\" d=\"M226,-133.68C226,-125.83 226,-117.6 226,-109.76\"/>\n",
       "<polygon fill=\"black\" stroke=\"black\" points=\"229.5,-109.79 226,-99.79 222.5,-109.79 229.5,-109.79\"/>\n",
       "</g>\n",
       "<!-- sigma__alpha -->\n",
       "<g id=\"node5\" class=\"node\">\n",
       "<title>sigma__alpha</title>\n",
       "<ellipse fill=\"none\" stroke=\"black\" cx=\"201\" cy=\"-531.11\" rx=\"64.88\" ry=\"40.66\"/>\n",
       "<text xml:space=\"preserve\" text-anchor=\"middle\" x=\"201\" y=\"-542.56\" font-family=\"Times,serif\" font-size=\"14.00\">sigma__alpha</text>\n",
       "<text xml:space=\"preserve\" text-anchor=\"middle\" x=\"201\" y=\"-526.06\" font-family=\"Times,serif\" font-size=\"14.00\">~</text>\n",
       "<text xml:space=\"preserve\" text-anchor=\"middle\" x=\"201\" y=\"-509.56\" font-family=\"Times,serif\" font-size=\"14.00\">HalfNormal</text>\n",
       "</g>\n",
       "<!-- alpha -->\n",
       "<g id=\"node6\" class=\"node\">\n",
       "<title>alpha</title>\n",
       "<ellipse fill=\"none\" stroke=\"black\" cx=\"226\" cy=\"-413.79\" rx=\"41.01\" ry=\"40.66\"/>\n",
       "<text xml:space=\"preserve\" text-anchor=\"middle\" x=\"226\" y=\"-425.24\" font-family=\"Times,serif\" font-size=\"14.00\">alpha</text>\n",
       "<text xml:space=\"preserve\" text-anchor=\"middle\" x=\"226\" y=\"-408.74\" font-family=\"Times,serif\" font-size=\"14.00\">~</text>\n",
       "<text xml:space=\"preserve\" text-anchor=\"middle\" x=\"226\" y=\"-392.24\" font-family=\"Times,serif\" font-size=\"14.00\">Normal</text>\n",
       "</g>\n",
       "<!-- sigma__alpha&#45;&gt;alpha -->\n",
       "<g id=\"edge2\" class=\"edge\">\n",
       "<title>sigma__alpha&#45;&gt;alpha</title>\n",
       "<path fill=\"none\" stroke=\"black\" d=\"M209.6,-490.42C211.39,-482.18 213.3,-473.39 215.15,-464.83\"/>\n",
       "<polygon fill=\"black\" stroke=\"black\" points=\"218.53,-465.77 217.23,-455.25 211.69,-464.28 218.53,-465.77\"/>\n",
       "</g>\n",
       "<!-- alpha&#45;&gt;dgp -->\n",
       "<g id=\"edge4\" class=\"edge\">\n",
       "<title>alpha&#45;&gt;dgp</title>\n",
       "<path fill=\"none\" stroke=\"black\" d=\"M226,-372.9C226,-359.87 226,-345.41 226,-332.41\"/>\n",
       "<polygon fill=\"black\" stroke=\"black\" points=\"229.5,-332.48 226,-322.48 222.5,-332.48 229.5,-332.48\"/>\n",
       "</g>\n",
       "<!-- b_SkewStudent -->\n",
       "<g id=\"node7\" class=\"node\">\n",
       "<title>b_SkewStudent</title>\n",
       "<ellipse fill=\"none\" stroke=\"black\" cx=\"381\" cy=\"-291.98\" rx=\"71.24\" ry=\"40.66\"/>\n",
       "<text xml:space=\"preserve\" text-anchor=\"middle\" x=\"381\" y=\"-303.43\" font-family=\"Times,serif\" font-size=\"14.00\">b_SkewStudent</text>\n",
       "<text xml:space=\"preserve\" text-anchor=\"middle\" x=\"381\" y=\"-286.93\" font-family=\"Times,serif\" font-size=\"14.00\">~</text>\n",
       "<text xml:space=\"preserve\" text-anchor=\"middle\" x=\"381\" y=\"-270.43\" font-family=\"Times,serif\" font-size=\"14.00\">HalfNormal</text>\n",
       "</g>\n",
       "<!-- b_SkewStudent&#45;&gt;likelihood -->\n",
       "<g id=\"edge10\" class=\"edge\">\n",
       "<title>b_SkewStudent&#45;&gt;likelihood</title>\n",
       "<path fill=\"none\" stroke=\"black\" d=\"M338.24,-259.16C319.36,-245.12 297.02,-228.5 277.26,-213.79\"/>\n",
       "<polygon fill=\"black\" stroke=\"black\" points=\"279.42,-211.04 269.3,-207.88 275.24,-216.65 279.42,-211.04\"/>\n",
       "</g>\n",
       "<!-- a_SkewStudent -->\n",
       "<g id=\"node8\" class=\"node\">\n",
       "<title>a_SkewStudent</title>\n",
       "<ellipse fill=\"none\" stroke=\"black\" cx=\"541\" cy=\"-291.98\" rx=\"70.71\" ry=\"40.66\"/>\n",
       "<text xml:space=\"preserve\" text-anchor=\"middle\" x=\"541\" y=\"-303.43\" font-family=\"Times,serif\" font-size=\"14.00\">a_SkewStudent</text>\n",
       "<text xml:space=\"preserve\" text-anchor=\"middle\" x=\"541\" y=\"-286.93\" font-family=\"Times,serif\" font-size=\"14.00\">~</text>\n",
       "<text xml:space=\"preserve\" text-anchor=\"middle\" x=\"541\" y=\"-270.43\" font-family=\"Times,serif\" font-size=\"14.00\">HalfNormal</text>\n",
       "</g>\n",
       "<!-- a_SkewStudent&#45;&gt;likelihood -->\n",
       "<g id=\"edge7\" class=\"edge\">\n",
       "<title>a_SkewStudent&#45;&gt;likelihood</title>\n",
       "<path fill=\"none\" stroke=\"black\" d=\"M489.44,-264.02C480.09,-259.53 470.34,-255.11 461,-251.32 407.33,-229.51 344.82,-209.64 297.77,-195.74\"/>\n",
       "<polygon fill=\"black\" stroke=\"black\" points=\"298.8,-192.4 288.22,-192.94 296.83,-199.11 298.8,-192.4\"/>\n",
       "</g>\n",
       "<!-- sigma_lik -->\n",
       "<g id=\"node9\" class=\"node\">\n",
       "<title>sigma_lik</title>\n",
       "<ellipse fill=\"none\" stroke=\"black\" cx=\"688\" cy=\"-291.98\" rx=\"57.98\" ry=\"40.66\"/>\n",
       "<text xml:space=\"preserve\" text-anchor=\"middle\" x=\"688\" y=\"-303.43\" font-family=\"Times,serif\" font-size=\"14.00\">sigma_lik</text>\n",
       "<text xml:space=\"preserve\" text-anchor=\"middle\" x=\"688\" y=\"-286.93\" font-family=\"Times,serif\" font-size=\"14.00\">~</text>\n",
       "<text xml:space=\"preserve\" text-anchor=\"middle\" x=\"688\" y=\"-270.43\" font-family=\"Times,serif\" font-size=\"14.00\">HalfNormal</text>\n",
       "</g>\n",
       "<!-- sigma_lik&#45;&gt;likelihood -->\n",
       "<g id=\"edge9\" class=\"edge\">\n",
       "<title>sigma_lik&#45;&gt;likelihood</title>\n",
       "<path fill=\"none\" stroke=\"black\" d=\"M646.22,-263.29C638.1,-258.77 629.47,-254.52 621,-251.32 515.29,-211.3 385.32,-191.64 304.04,-182.59\"/>\n",
       "<polygon fill=\"black\" stroke=\"black\" points=\"304.73,-179.15 294.41,-181.55 303.97,-186.11 304.73,-179.15\"/>\n",
       "</g>\n",
       "<!-- sigma_betas -->\n",
       "<g id=\"node10\" class=\"node\">\n",
       "<title>sigma_betas</title>\n",
       "<ellipse fill=\"none\" stroke=\"black\" cx=\"343\" cy=\"-531.11\" rx=\"59.04\" ry=\"40.66\"/>\n",
       "<text xml:space=\"preserve\" text-anchor=\"middle\" x=\"343\" y=\"-542.56\" font-family=\"Times,serif\" font-size=\"14.00\">sigma_betas</text>\n",
       "<text xml:space=\"preserve\" text-anchor=\"middle\" x=\"343\" y=\"-526.06\" font-family=\"Times,serif\" font-size=\"14.00\">~</text>\n",
       "<text xml:space=\"preserve\" text-anchor=\"middle\" x=\"343\" y=\"-509.56\" font-family=\"Times,serif\" font-size=\"14.00\">HalfNormal</text>\n",
       "</g>\n",
       "<!-- betas -->\n",
       "<g id=\"node11\" class=\"node\">\n",
       "<title>betas</title>\n",
       "<ellipse fill=\"none\" stroke=\"black\" cx=\"334\" cy=\"-413.79\" rx=\"41.01\" ry=\"40.66\"/>\n",
       "<text xml:space=\"preserve\" text-anchor=\"middle\" x=\"334\" y=\"-425.24\" font-family=\"Times,serif\" font-size=\"14.00\">betas</text>\n",
       "<text xml:space=\"preserve\" text-anchor=\"middle\" x=\"334\" y=\"-408.74\" font-family=\"Times,serif\" font-size=\"14.00\">~</text>\n",
       "<text xml:space=\"preserve\" text-anchor=\"middle\" x=\"334\" y=\"-392.24\" font-family=\"Times,serif\" font-size=\"14.00\">Normal</text>\n",
       "</g>\n",
       "<!-- sigma_betas&#45;&gt;betas -->\n",
       "<g id=\"edge3\" class=\"edge\">\n",
       "<title>sigma_betas&#45;&gt;betas</title>\n",
       "<path fill=\"none\" stroke=\"black\" d=\"M339.88,-490.1C339.27,-482.32 338.63,-474.06 337.99,-465.98\"/>\n",
       "<polygon fill=\"black\" stroke=\"black\" points=\"341.5,-465.94 337.23,-456.24 334.52,-466.48 341.5,-465.94\"/>\n",
       "</g>\n",
       "<!-- betas&#45;&gt;dgp -->\n",
       "<g id=\"edge6\" class=\"edge\">\n",
       "<title>betas&#45;&gt;dgp</title>\n",
       "<path fill=\"none\" stroke=\"black\" d=\"M309.75,-380.78C299.68,-367.98 287.64,-353.3 276,-340.63 272.43,-336.75 268.62,-332.8 264.75,-328.92\"/>\n",
       "<polygon fill=\"black\" stroke=\"black\" points=\"267.44,-326.66 257.86,-322.14 262.53,-331.65 267.44,-326.66\"/>\n",
       "</g>\n",
       "</g>\n",
       "</svg>\n"
      ],
      "text/plain": [
       "<graphviz.graphs.Digraph at 0x34649c080>"
      ]
     },
     "execution_count": 89,
     "metadata": {},
     "output_type": "execute_result"
    }
   ],
   "source": [
    "pm.model_to_graphviz(CausalSoccer_model)"
   ]
  },
  {
   "cell_type": "code",
   "execution_count": 90,
   "id": "33d23c83-0135-4e37-862f-ce69a370898e",
   "metadata": {},
   "outputs": [
    {
     "name": "stderr",
     "output_type": "stream",
     "text": [
      "INFO:pymc.sampling.forward:Sampling: [a_SkewStudent, alpha, b_SkewStudent, betas, likelihood, sigma__alpha, sigma_betas, sigma_lik]\n",
      "/Users/maximilian/miniforge3/lib/python3.12/site-packages/scipy/stats/_continuous_distns.py:5714: RuntimeWarning: divide by zero encountered in divide\n",
      "  return d2 / d3\n"
     ]
    }
   ],
   "source": [
    "with CausalSoccer_model:\n",
    "    idata = pm.sample_prior_predictive(draws=5000)"
   ]
  },
  {
   "cell_type": "code",
   "execution_count": 91,
   "id": "1c9de40d-2669-4b9c-8c0f-bcb5d95a8e0e",
   "metadata": {},
   "outputs": [
    {
     "data": {
      "image/png": "[encoded data removed]",
      "text/plain": [
       "<Figure size 800x500 with 1 Axes>"
      ]
     },
     "metadata": {},
     "output_type": "display_data"
    },
    {
     "name": "stdout",
     "output_type": "stream",
     "text": [
      "\n",
      "Mean:       1.25\n",
      "SD:         0.14\n",
      "Skew:      -0.17\n",
      "Kurtosis:   3.29\n"
     ]
    }
   ],
   "source": [
    "\n",
    "\n",
    "\n",
    "fig,ax=plt.subplots(figsize=(8,5))\n",
    "sns.histplot(x=s_plot,color='firebrick',label='obs',ax=ax, stat='density')\n",
    "sns.histplot(x=idata['prior_predictive']['likelihood'].stack(samples=('chain','draw')).median(axis=1),\n",
    "             color='darkgreen',label='prior preds',ax=ax, stat='density')\n",
    "plt.ylabel('')\n",
    "plt.xlabel('')\n",
    "plt.legend()\n",
    "plt.title('Prior Predictive')\n",
    "plt.show()\n",
    "\n",
    "\n",
    "# --- Some Summary Statistics:\n",
    "s_priorPred = pd.Series(idata['prior_predictive']['likelihood'].stack(samples=('chain','draw')).median(axis=1))\n",
    "print(f'\\nMean:      {s_priorPred.mean(): .2f}')\n",
    "print(f'SD:        {s_priorPred.std(): .2f}')\n",
    "print(f'Skew:      {s_priorPred.skew(): .2f}')\n",
    "print(f'Kurtosis:  {s_priorPred.kurt()+3: .2f}')\n"
   ]
  },
  {
   "cell_type": "code",
   "execution_count": 92,
   "id": "f956928a-5939-43c1-b485-6c4f1a63e4a1",
   "metadata": {},
   "outputs": [
    {
     "data": {
      "application/vnd.jupyter.widget-view+json": {
       "model_id": "7748041ae95f478b9bcf322b22e80875",
       "version_major": 2,
       "version_minor": 0
      },
      "text/plain": [
       "  0%|          | 0/2000 [00:00<?, ?it/s]"
      ]
     },
     "metadata": {},
     "output_type": "display_data"
    },
    {
     "data": {
      "application/vnd.jupyter.widget-view+json": {
       "model_id": "24cdc021be474c32aec98360bb42f804",
       "version_major": 2,
       "version_minor": 0
      },
      "text/plain": [
       "  0%|          | 0/2000 [00:00<?, ?it/s]"
      ]
     },
     "metadata": {},
     "output_type": "display_data"
    },
    {
     "data": {
      "application/vnd.jupyter.widget-view+json": {
       "model_id": "dbce9776bb7e419ca9d9f6ba0b39a56d",
       "version_major": 2,
       "version_minor": 0
      },
      "text/plain": [
       "  0%|          | 0/2000 [00:00<?, ?it/s]"
      ]
     },
     "metadata": {},
     "output_type": "display_data"
    },
    {
     "data": {
      "application/vnd.jupyter.widget-view+json": {
       "model_id": "3eb47c9283ea440e9b932b7908d6f0e3",
       "version_major": 2,
       "version_minor": 0
      },
      "text/plain": [
       "  0%|          | 0/2000 [00:00<?, ?it/s]"
      ]
     },
     "metadata": {},
     "output_type": "display_data"
    },
    {
     "name": "stderr",
     "output_type": "stream",
     "text": [
      "ERROR:pymc.stats.convergence:There were 10 divergences after tuning. Increase `target_accept` or reparameterize.\n"
     ]
    }
   ],
   "source": [
    "N_chains = 4\n",
    "\n",
    "with CausalSoccer_model:\n",
    "    idata = pm.sample(nuts_sampler=\"numpyro\", target_accept=0.99, chains=N_chains,draws=1000)\n"
   ]
  },
  {
   "cell_type": "code",
   "execution_count": 97,
   "id": "97fa924c-d1bf-44ef-aed4-2cd4c4b2afb3",
   "metadata": {},
   "outputs": [
    {
     "name": "stderr",
     "output_type": "stream",
     "text": [
      "INFO:pymc.sampling.forward:Sampling: [likelihood]\n"
     ]
    },
    {
     "data": {
      "application/vnd.jupyter.widget-view+json": {
       "model_id": "8f30114da01647fc91addc0f04df0957",
       "version_major": 2,
       "version_minor": 0
      },
      "text/plain": [
       "Output()"
      ]
     },
     "metadata": {},
     "output_type": "display_data"
    },
    {
     "data": {
      "text/html": [
       "<pre style=\"white-space:pre;overflow-x:auto;line-height:normal;font-family:Menlo,'DejaVu Sans Mono',consolas,'Courier New',monospace\"></pre>\n"
      ],
      "text/plain": []
     },
     "metadata": {},
     "output_type": "display_data"
    }
   ],
   "source": [
    "# ===================================== Make Predictions ===================================== #\n",
    "\n",
    "with CausalSoccer_model:\n",
    "    idata.extend(pm.sample_posterior_predictive(idata))"
   ]
  },
  {
   "cell_type": "code",
   "execution_count": 100,
   "id": "a2fcbc80-4586-4843-844c-270192a79550",
   "metadata": {},
   "outputs": [],
   "source": [
    "# ===================================== Evaluate the Fitting: Just a 'by-foot' workaround ===================================== #\n",
    "if 1==2:\n",
    "    # --- Extract the Estimates:\n",
    "    alpha__samples = idata['posterior']['alpha'].stack(samples=('chain','draw')).to_numpy()\n",
    "    beta__samples = idata['posterior']['betas'].stack(samples=('chain','draw')).to_numpy()\n",
    "    \n",
    "    \n",
    "    # --- Predict:\n",
    "    df_Yhat = pd.DataFrame(np.nan,index=df_reg.index,columns=[f'draw__{n}' for n in range(len(alpha__samples))])\n",
    "    for n in tqdm(range(len(alpha__samples))):\n",
    "        df_Yhat.loc[:,f'draw__{n}'] = alpha__samples[n] + df_reg[features] @ beta__samples[:,n]\n",
    "    \n",
    "    \n",
    "    # --- Evaluate:\n",
    "    print(f'\\nGoodness of Fit (R^2): {R2(idata['constant_data']['Y'].to_numpy(),\n",
    "                                         df_Yhat.median(axis=1).values,\n",
    "                                         idata['constant_data']['Y'].mean().to_numpy()):.2f}')\n"
   ]
  },
  {
   "cell_type": "code",
   "execution_count": 101,
   "id": "8c720d3d-9c35-423d-ad50-e24af53b8c24",
   "metadata": {},
   "outputs": [
    {
     "data": {
      "image/png": "[encoded data removed]",
      "text/plain": [
       "<Figure size 800x500 with 1 Axes>"
      ]
     },
     "metadata": {},
     "output_type": "display_data"
    },
    {
     "name": "stdout",
     "output_type": "stream",
     "text": [
      "\n",
      "Mean:       1.44\n",
      "SD:         0.18\n",
      "Skew:       0.57\n",
      "Kurtosis:   3.60\n"
     ]
    }
   ],
   "source": [
    "# ===================================== Plot the Posterior Predictive vs. the Target ===================================== #\n",
    "\n",
    "\n",
    "# --- Get the Target:\n",
    "s_plot = df_reg[outcome_label].copy()\n",
    "\n",
    "\n",
    "\n",
    "fig,ax=plt.subplots(figsize=(8,5))\n",
    "sns.histplot(x=s_plot,color='firebrick',label='obs',ax=ax, stat='density')\n",
    "sns.histplot(x=idata['posterior_predictive']['likelihood'].stack(samples=('chain','draw')).median(axis=1),\n",
    "             color='darkgreen',label='preds',ax=ax, stat='density')\n",
    "plt.ylabel('')\n",
    "plt.xlabel('')\n",
    "plt.legend('')\n",
    "plt.show()\n",
    "\n",
    "\n",
    "s_postPred = pd.Series(idata['posterior_predictive']['likelihood'].stack(samples=('chain','draw')).median(axis=1))\n",
    "print(f'\\nMean:      {s_postPred.mean(): .2f}')\n",
    "print(f'SD:        {s_postPred.std(): .2f}')\n",
    "print(f'Skew:      {s_postPred.skew(): .2f}')\n",
    "print(f'Kurtosis:  {s_postPred.kurt()+3: .2f}')\n",
    "\n"
   ]
  },
  {
   "cell_type": "code",
   "execution_count": 102,
   "id": "7b2088aa-2786-4807-b5b4-8b9e51bfc9d0",
   "metadata": {},
   "outputs": [
    {
     "name": "stdout",
     "output_type": "stream",
     "text": [
      "\n",
      "Goodness of Fit (R^2): 0.17\n"
     ]
    }
   ],
   "source": [
    "# ===================================== Evaluate the Fitting: the Quick Alternative ===================================== #\n",
    "\n",
    "\n",
    "print(f'\\nGoodness of Fit (R^2): {R2(s_plot,\n",
    "                                     idata['posterior_predictive']['likelihood'].stack(samples=('chain','draw')).median(axis=1),\n",
    "                                     s_plot.mean()):.2f}')"
   ]
  },
  {
   "cell_type": "code",
   "execution_count": 103,
   "id": "b56431fa-e16f-4afb-8014-a2e58169d074",
   "metadata": {},
   "outputs": [
    {
     "data": {
      "text/plain": [
       "['sub',\n",
       " 'score_diff',\n",
       " 'strength__off__pre',\n",
       " 'strength__def__pre',\n",
       " 'passes_perMin__off__pre']"
      ]
     },
     "execution_count": 103,
     "metadata": {},
     "output_type": "execute_result"
    }
   ],
   "source": [
    "features"
   ]
  },
  {
   "cell_type": "code",
   "execution_count": 104,
   "id": "488c4ab6-b26a-4ce9-b3cc-f4fd81f94396",
   "metadata": {},
   "outputs": [
    {
     "data": {
      "image/png": "[encoded data removed]",
      "text/plain": [
       "<Figure size 800x500 with 1 Axes>"
      ]
     },
     "metadata": {},
     "output_type": "display_data"
    },
    {
     "name": "stdout",
     "output_type": "stream",
     "text": [
      "\n",
      "\n",
      "Lower Bound  2.5%:  -0.07\n",
      "Mean:               -0.02\n",
      "Upper Bound 97.5%:   0.03\n"
     ]
    }
   ],
   "source": [
    "# ===================================== Evaluate the Treatment Effect: Plot '\\beta_{sub}' ===================================== #\n",
    "\n",
    "\n",
    "# --------------------------- USER INTERACTION --------------------------- #\n",
    "\n",
    "# --- Confidence Interval: ]0.5,1]\n",
    "pick_q = 0.95\n",
    "\n",
    "# --- Which feature?\n",
    "pick_feature = 'sub'\n",
    "\n",
    "# --------------------------- USER INTERACTION --------------------------- #\n",
    "\n",
    "\n",
    "beta__samples = idata['posterior']['betas'][:,:,features.index(pick_feature)].to_numpy().flatten()\n",
    "\n",
    "\n",
    "\n",
    "fig,ax=plt.subplots(figsize=(8,5))\n",
    "sns.histplot(x=beta__samples,ax=ax)\n",
    "plt.ylabel('')\n",
    "plt.xlabel('')\n",
    "plt.legend('')\n",
    "plt.title(f'Substitution (T=1): Increase in # of {outcome_label.capitalize()}')\n",
    "plt.show()\n",
    "\n",
    "# --- Some Summary Statistics:\n",
    "\n",
    "\n",
    "print('\\n')\n",
    "print(f'Lower Bound  {(1-pick_q)/2*100:.1f}%:  {np.quantile(beta__samples,q=(1-pick_q)/2): .2f}')\n",
    "print(f'Mean:               {beta__samples.mean(): .2f}')\n",
    "print(f'Upper Bound {(1-(1-pick_q)/2)*100:.1f}%:  {np.quantile(beta__samples,q=1-(1-pick_q)/2): .2f}')\n"
   ]
  },
  {
   "cell_type": "markdown",
   "id": "d3deecf4-fa3f-4ea3-a7d5-12349311eb7d",
   "metadata": {},
   "source": [
    "<br>\n",
    "\n",
    "### 2.2 &emsp; $Y$: &ensp; Post-Event Performance\n",
    "\n",
    "\n",
    "$Y$ is the observed value of the outcome variable in the *post-event* segment, and not the difference between the *post-* and *pre-event* segment. We thus include $Y_{off, \\rightarrow i}$, i.e. the value of the outcome variable of the laggging team recorded up until event $i$, among the features $\\mathbf{X}$.\n"
   ]
  },
  {
   "cell_type": "code",
   "execution_count": 56,
   "id": "19a2e535-fa8f-424c-884a-fbd5f7abe0e8",
   "metadata": {},
   "outputs": [],
   "source": [
    "# --------------------------------- USER INTERACTION --------------------------------- #\n",
    "\n",
    "# --- Which is the outcome (Y) you are interested in to analyze? ['passes','shots','goals']\n",
    "target = \"shots\"\n",
    "\n",
    "# --- Transform the target? [None; 'log']\n",
    "target_transform = 'log'\n",
    "\n",
    "# --- Set the Features you want to include:\n",
    "features = ['sub','score_diff','strength__off__pre','strength__def__pre']\n",
    "\n",
    "# --------------------------------- USER INTERACTION --------------------------------- #\n",
    "\n",
    "\n",
    "# --- Outcome Label:\n",
    "outcome_label = f'{target}_perMin__off__post'\n",
    "\n",
    "# --- Add the pre-Event Equivalent to the Features:\n",
    "features += [f'{target}_perMin__off__pre']\n",
    "\n",
    "# --- Regression Matrix\n",
    "df_reg = df[features+[outcome_label]].dropna().copy()\n",
    "df_reg = df_reg[df_reg[outcome_label] != 0]\n",
    "\n",
    "# --- If log-Transformation was requested\n",
    "if target_transform == 'log':\n",
    "    df_reg[outcome_label] = np.log(df_reg[outcome_label])\n",
    "\n",
    "\n",
    "\n",
    "COORDS = {\n",
    "    'obs_id': df_reg.index,\n",
    "    'features': features,\n",
    "}\n"
   ]
  },
  {
   "cell_type": "code",
   "execution_count": 57,
   "id": "791a9199-0600-4152-aeaf-eaa19dfaf7b7",
   "metadata": {},
   "outputs": [
    {
     "data": {
      "image/png": "[encoded data removed]",
      "text/plain": [
       "<Figure size 800x500 with 1 Axes>"
      ]
     },
     "metadata": {},
     "output_type": "display_data"
    },
    {
     "name": "stdout",
     "output_type": "stream",
     "text": [
      "\n",
      "Mean:      -1.88\n",
      "SD:         0.59\n",
      "Skew:      -0.08\n",
      "Kurtosis:   2.63\n"
     ]
    }
   ],
   "source": [
    "\n",
    "# --- Get the Target:\n",
    "s_plot = df_reg[outcome_label].copy()\n",
    "\n",
    "fig,ax=plt.subplots(figsize=(8,5))\n",
    "sns.histplot(x=s_plot.values,ax=ax)\n",
    "plt.ylabel('')\n",
    "plt.xlabel('')\n",
    "plt.legend('')\n",
    "plt.show()\n",
    "\n",
    "# --- Some Summary Statistics:\n",
    "\n",
    "print(f'\\nMean:      {s_plot.mean(): .2f}')\n",
    "print(f'SD:        {s_plot.std(): .2f}')\n",
    "print(f'Skew:      {s_plot.skew(): .2f}')\n",
    "print(f'Kurtosis:  {s_plot.kurt()+3: .2f}')\n"
   ]
  },
  {
   "cell_type": "code",
   "execution_count": 115,
   "id": "216c399c-be60-4878-9320-1eb93f91c68f",
   "metadata": {},
   "outputs": [],
   "source": [
    "\n",
    "\n",
    "with pm.Model(coords=COORDS) as CausalSoccer_model:\n",
    "\n",
    "\n",
    "    # ================================== Set the Data ================================== #\n",
    "    X = pm.Data('X',df_reg[features].to_numpy(),dims=('obs_id','features'))\n",
    "    Y = pm.Data('Y',df_reg[outcome_label].to_numpy(),dims='obs_id')\n",
    "    \n",
    "\n",
    "    # ================================== Set the priors ================================== #\n",
    "\n",
    "    # -------------------------------- Alpha -------------------------------- # \n",
    "   \n",
    "    # --- Hyperparameter: Standard-Deviation:\n",
    "    #sigma__alpha = pm.Exponential('sigma__alpha',lam=0.5)\n",
    "    sigma__alpha = pm.HalfNormal('sigma__alpha',sigma=3)\n",
    "    #mu__alpha = pm.Normal('mu__alpha',mu=0,sigma=2)\n",
    "    mu__alpha = s_plot.mean()\n",
    "    \n",
    "\n",
    "    # --- League-Specific\n",
    "    alpha = pm.Normal('alpha', mu=mu__alpha, sigma=sigma__alpha)\n",
    "\n",
    "\n",
    "    # -------------------------------- Betas -------------------------------- # \n",
    "\n",
    "    # --- Variation in the loadings:\n",
    "    sigma_betas = pm.HalfNormal('sigma_betas',sigma=3,dims='features')\n",
    "    #sigma_betas = pm.Exponential('sigma_betas',lam=0.5,dims='features')\n",
    "\n",
    "    # --- Loadings: Pooled across all players & leagues\n",
    "    betas = pm.Normal('betas',mu=0,sigma=sigma_betas,dims='features')\n",
    "\n",
    "\n",
    "    # ---------------------- Prior for the Variance of the Target ------------------- # \n",
    "    # ---> set it a bit looser\n",
    "    sigma_lik = pm.HalfNormal('sigma_lik',sigma=5)\n",
    "    #sigma_lik = pm.Exponential('sigma_lik',lam=0.1)\n",
    "\n",
    "\n",
    "    \n",
    "    # ================================== Compute the Conditional Mean ================================== #\n",
    "    \n",
    "    dgp = pm.Deterministic('dgp', alpha + X @ betas, dims='obs_id')\n",
    "\n",
    "    \n",
    "\n",
    "    # ================================== Likelihood ================================== #\n",
    "\n",
    "    if not target_transform:\n",
    "\n",
    "        \n",
    "        likelihood = pm.LogNormal('likelihood',\n",
    "                                   mu=dgp, \n",
    "                                   sigma=sigma_lik, \n",
    "                                   observed=Y, \n",
    "                                   dims='obs_id')\n",
    "            \n",
    "    elif target_transform == 'log':\n",
    "\n",
    "        \n",
    "        if target == 'passes':\n",
    "\n",
    "            # ---------------------- Prior for the Parameters describing the Kurtosis of the Skewed-Student-T ------------------- # \n",
    "            a_SkewStudent = pm.HalfNormal('a_SkewStudent',sigma=3)\n",
    "            b_SkewStudent = pm.HalfNormal('b_SkewStudent',sigma=3)\n",
    "            #a_SkewStudent = pm.Exponential('a_SkewStudent',lam=0.1)\n",
    "            #b_SkewStudent = pm.Exponential('b_SkewStudent',lam=0.1)\n",
    "\n",
    "            \n",
    "            \n",
    "            likelihood = pm.SkewStudentT('likelihood',\n",
    "                                        mu=dgp, \n",
    "                                        a=a_SkewStudent,\n",
    "                                        b=b_SkewStudent,\n",
    "                                        sigma=sigma_lik,\n",
    "                                        observed=Y, \n",
    "                                        dims='obs_id')\n",
    "\n",
    "        elif target == 'shots':\n",
    "        \n",
    "            likelihood = pm.Normal('likelihood',\n",
    "                                    mu=dgp, \n",
    "                                    sigma=sigma_lik, \n",
    "                                    #sigma=2, \n",
    "                                    observed=Y, \n",
    "                                    dims='obs_id')\n",
    "\n",
    "\n",
    "    \n",
    "\n",
    "\n",
    "    "
   ]
  },
  {
   "cell_type": "code",
   "execution_count": 116,
   "id": "e065c629-5ceb-4889-b0eb-6101985272f0",
   "metadata": {},
   "outputs": [
    {
     "data": {
      "image/svg+xml": [
       "<?xml version=\"1.0\" encoding=\"UTF-8\" standalone=\"no\"?>\n",
       "<!DOCTYPE svg PUBLIC \"-//W3C//DTD SVG 1.1//EN\"\n",
       " \"http://www.w3.org/Graphics/SVG/1.1/DTD/svg11.dtd\">\n",
       "<!-- Generated by graphviz version 13.1.2 (0)\n",
       " -->\n",
       "<!-- Pages: 1 -->\n",
       "<svg width=\"426pt\" height=\"580pt\"\n",
       " viewBox=\"0.00 0.00 426.00 580.00\" xmlns=\"http://www.w3.org/2000/svg\" xmlns:xlink=\"http://www.w3.org/1999/xlink\">\n",
       "<g id=\"graph0\" class=\"graph\" transform=\"scale(1 1) rotate(0) translate(4 575.95)\">\n",
       "<polygon fill=\"white\" stroke=\"none\" points=\"-4,4 -4,-575.95 422,-575.95 422,4 -4,4\"/>\n",
       "<g id=\"clust1\" class=\"cluster\">\n",
       "<title>clusterobs_id (3361) x features (5)</title>\n",
       "<path fill=\"none\" stroke=\"black\" d=\"M20,-336.73C20,-336.73 164,-336.73 164,-336.73 170,-336.73 176,-342.73 176,-348.73 176,-348.73 176,-422.73 176,-422.73 176,-428.73 170,-434.73 164,-434.73 164,-434.73 20,-434.73 20,-434.73 14,-434.73 8,-428.73 8,-422.73 8,-422.73 8,-348.73 8,-348.73 8,-342.73 14,-336.73 20,-336.73\"/>\n",
       "<text xml:space=\"preserve\" text-anchor=\"middle\" x=\"91.88\" y=\"-343.93\" font-family=\"Times,serif\" font-size=\"14.00\">obs_id (3361) x features (5)</text>\n",
       "</g>\n",
       "<g id=\"clust2\" class=\"cluster\">\n",
       "<title>clusterobs_id (3361)</title>\n",
       "<path fill=\"none\" stroke=\"black\" d=\"M180,-8C180,-8 272,-8 272,-8 278,-8 284,-14 284,-20 284,-20 284,-304.82 284,-304.82 284,-310.82 278,-316.82 272,-316.82 272,-316.82 180,-316.82 180,-316.82 174,-316.82 168,-310.82 168,-304.82 168,-304.82 168,-20 168,-20 168,-14 174,-8 180,-8\"/>\n",
       "<text xml:space=\"preserve\" text-anchor=\"middle\" x=\"238.12\" y=\"-15.2\" font-family=\"Times,serif\" font-size=\"14.00\">obs_id (3361)</text>\n",
       "</g>\n",
       "<g id=\"clust3\" class=\"cluster\">\n",
       "<title>clusterfeatures (5)</title>\n",
       "<path fill=\"none\" stroke=\"black\" d=\"M288,-324.82C288,-324.82 398,-324.82 398,-324.82 404,-324.82 410,-330.82 410,-336.82 410,-336.82 410,-551.95 410,-551.95 410,-557.95 404,-563.95 398,-563.95 398,-563.95 288,-563.95 288,-563.95 282,-563.95 276,-557.95 276,-551.95 276,-551.95 276,-336.82 276,-336.82 276,-330.82 282,-324.82 288,-324.82\"/>\n",
       "<text xml:space=\"preserve\" text-anchor=\"middle\" x=\"370.88\" y=\"-332.02\" font-family=\"Times,serif\" font-size=\"14.00\">features (5)</text>\n",
       "</g>\n",
       "<!-- X -->\n",
       "<g id=\"node1\" class=\"node\">\n",
       "<title>X</title>\n",
       "<path fill=\"lightgrey\" stroke=\"black\" d=\"M155,-426.73C155,-426.73 125,-426.73 125,-426.73 119,-426.73 113,-420.73 113,-414.73 113,-414.73 113,-381.23 113,-381.23 113,-375.23 119,-369.23 125,-369.23 125,-369.23 155,-369.23 155,-369.23 161,-369.23 167,-375.23 167,-381.23 167,-381.23 167,-414.73 167,-414.73 167,-420.73 161,-426.73 155,-426.73\"/>\n",
       "<text xml:space=\"preserve\" text-anchor=\"middle\" x=\"140\" y=\"-409.43\" font-family=\"Times,serif\" font-size=\"14.00\">X</text>\n",
       "<text xml:space=\"preserve\" text-anchor=\"middle\" x=\"140\" y=\"-392.93\" font-family=\"Times,serif\" font-size=\"14.00\">~</text>\n",
       "<text xml:space=\"preserve\" text-anchor=\"middle\" x=\"140\" y=\"-376.43\" font-family=\"Times,serif\" font-size=\"14.00\">Data</text>\n",
       "</g>\n",
       "<!-- dgp -->\n",
       "<g id=\"node2\" class=\"node\">\n",
       "<title>dgp</title>\n",
       "<polygon fill=\"none\" stroke=\"black\" points=\"271.12,-308.82 180.88,-308.82 180.88,-251.32 271.12,-251.32 271.12,-308.82\"/>\n",
       "<text xml:space=\"preserve\" text-anchor=\"middle\" x=\"226\" y=\"-291.52\" font-family=\"Times,serif\" font-size=\"14.00\">dgp</text>\n",
       "<text xml:space=\"preserve\" text-anchor=\"middle\" x=\"226\" y=\"-275.02\" font-family=\"Times,serif\" font-size=\"14.00\">~</text>\n",
       "<text xml:space=\"preserve\" text-anchor=\"middle\" x=\"226\" y=\"-258.52\" font-family=\"Times,serif\" font-size=\"14.00\">Deterministic</text>\n",
       "</g>\n",
       "<!-- X&#45;&gt;dgp -->\n",
       "<g id=\"edge5\" class=\"edge\">\n",
       "<title>X&#45;&gt;dgp</title>\n",
       "<path fill=\"none\" stroke=\"black\" d=\"M150.99,-368.78C157.18,-354.8 165.73,-338.12 176,-324.82 177.98,-322.25 180.13,-319.72 182.39,-317.24\"/>\n",
       "<polygon fill=\"black\" stroke=\"black\" points=\"184.82,-319.77 189.33,-310.18 179.82,-314.86 184.82,-319.77\"/>\n",
       "</g>\n",
       "<!-- likelihood -->\n",
       "<g id=\"node4\" class=\"node\">\n",
       "<title>likelihood</title>\n",
       "<ellipse fill=\"lightgrey\" stroke=\"black\" cx=\"226\" cy=\"-174.66\" rx=\"50.03\" ry=\"40.66\"/>\n",
       "<text xml:space=\"preserve\" text-anchor=\"middle\" x=\"226\" y=\"-186.11\" font-family=\"Times,serif\" font-size=\"14.00\">likelihood</text>\n",
       "<text xml:space=\"preserve\" text-anchor=\"middle\" x=\"226\" y=\"-169.61\" font-family=\"Times,serif\" font-size=\"14.00\">~</text>\n",
       "<text xml:space=\"preserve\" text-anchor=\"middle\" x=\"226\" y=\"-153.11\" font-family=\"Times,serif\" font-size=\"14.00\">Normal</text>\n",
       "</g>\n",
       "<!-- dgp&#45;&gt;likelihood -->\n",
       "<g id=\"edge7\" class=\"edge\">\n",
       "<title>dgp&#45;&gt;likelihood</title>\n",
       "<path fill=\"none\" stroke=\"black\" d=\"M226,-251.08C226,-243.6 226,-235.27 226,-226.95\"/>\n",
       "<polygon fill=\"black\" stroke=\"black\" points=\"229.5,-227.21 226,-217.21 222.5,-227.21 229.5,-227.21\"/>\n",
       "</g>\n",
       "<!-- Y -->\n",
       "<g id=\"node3\" class=\"node\">\n",
       "<title>Y</title>\n",
       "<path fill=\"lightgrey\" stroke=\"black\" d=\"M241,-98C241,-98 211,-98 211,-98 205,-98 199,-92 199,-86 199,-86 199,-52.5 199,-52.5 199,-46.5 205,-40.5 211,-40.5 211,-40.5 241,-40.5 241,-40.5 247,-40.5 253,-46.5 253,-52.5 253,-52.5 253,-86 253,-86 253,-92 247,-98 241,-98\"/>\n",
       "<text xml:space=\"preserve\" text-anchor=\"middle\" x=\"226\" y=\"-80.7\" font-family=\"Times,serif\" font-size=\"14.00\">Y</text>\n",
       "<text xml:space=\"preserve\" text-anchor=\"middle\" x=\"226\" y=\"-64.2\" font-family=\"Times,serif\" font-size=\"14.00\">~</text>\n",
       "<text xml:space=\"preserve\" text-anchor=\"middle\" x=\"226\" y=\"-47.7\" font-family=\"Times,serif\" font-size=\"14.00\">Data</text>\n",
       "</g>\n",
       "<!-- likelihood&#45;&gt;Y -->\n",
       "<g id=\"edge1\" class=\"edge\">\n",
       "<title>likelihood&#45;&gt;Y</title>\n",
       "<path fill=\"none\" stroke=\"black\" d=\"M226,-133.68C226,-125.83 226,-117.6 226,-109.76\"/>\n",
       "<polygon fill=\"black\" stroke=\"black\" points=\"229.5,-109.79 226,-99.79 222.5,-109.79 229.5,-109.79\"/>\n",
       "</g>\n",
       "<!-- alpha -->\n",
       "<g id=\"node5\" class=\"node\">\n",
       "<title>alpha</title>\n",
       "<ellipse fill=\"none\" stroke=\"black\" cx=\"226\" cy=\"-397.98\" rx=\"41.01\" ry=\"40.66\"/>\n",
       "<text xml:space=\"preserve\" text-anchor=\"middle\" x=\"226\" y=\"-409.43\" font-family=\"Times,serif\" font-size=\"14.00\">alpha</text>\n",
       "<text xml:space=\"preserve\" text-anchor=\"middle\" x=\"226\" y=\"-392.93\" font-family=\"Times,serif\" font-size=\"14.00\">~</text>\n",
       "<text xml:space=\"preserve\" text-anchor=\"middle\" x=\"226\" y=\"-376.43\" font-family=\"Times,serif\" font-size=\"14.00\">Normal</text>\n",
       "</g>\n",
       "<!-- alpha&#45;&gt;dgp -->\n",
       "<g id=\"edge4\" class=\"edge\">\n",
       "<title>alpha&#45;&gt;dgp</title>\n",
       "<path fill=\"none\" stroke=\"black\" d=\"M226,-357.09C226,-345.2 226,-332.19 226,-320.34\"/>\n",
       "<polygon fill=\"black\" stroke=\"black\" points=\"229.5,-320.48 226,-310.48 222.5,-320.48 229.5,-320.48\"/>\n",
       "</g>\n",
       "<!-- sigma__alpha -->\n",
       "<g id=\"node6\" class=\"node\">\n",
       "<title>sigma__alpha</title>\n",
       "<ellipse fill=\"none\" stroke=\"black\" cx=\"201\" cy=\"-515.29\" rx=\"64.88\" ry=\"40.66\"/>\n",
       "<text xml:space=\"preserve\" text-anchor=\"middle\" x=\"201\" y=\"-526.74\" font-family=\"Times,serif\" font-size=\"14.00\">sigma__alpha</text>\n",
       "<text xml:space=\"preserve\" text-anchor=\"middle\" x=\"201\" y=\"-510.24\" font-family=\"Times,serif\" font-size=\"14.00\">~</text>\n",
       "<text xml:space=\"preserve\" text-anchor=\"middle\" x=\"201\" y=\"-493.74\" font-family=\"Times,serif\" font-size=\"14.00\">HalfNormal</text>\n",
       "</g>\n",
       "<!-- sigma__alpha&#45;&gt;alpha -->\n",
       "<g id=\"edge2\" class=\"edge\">\n",
       "<title>sigma__alpha&#45;&gt;alpha</title>\n",
       "<path fill=\"none\" stroke=\"black\" d=\"M209.6,-474.61C211.39,-466.36 213.3,-457.57 215.15,-449.01\"/>\n",
       "<polygon fill=\"black\" stroke=\"black\" points=\"218.53,-449.95 217.23,-439.43 211.69,-448.46 218.53,-449.95\"/>\n",
       "</g>\n",
       "<!-- sigma_betas -->\n",
       "<g id=\"node7\" class=\"node\">\n",
       "<title>sigma_betas</title>\n",
       "<ellipse fill=\"none\" stroke=\"black\" cx=\"343\" cy=\"-515.29\" rx=\"59.04\" ry=\"40.66\"/>\n",
       "<text xml:space=\"preserve\" text-anchor=\"middle\" x=\"343\" y=\"-526.74\" font-family=\"Times,serif\" font-size=\"14.00\">sigma_betas</text>\n",
       "<text xml:space=\"preserve\" text-anchor=\"middle\" x=\"343\" y=\"-510.24\" font-family=\"Times,serif\" font-size=\"14.00\">~</text>\n",
       "<text xml:space=\"preserve\" text-anchor=\"middle\" x=\"343\" y=\"-493.74\" font-family=\"Times,serif\" font-size=\"14.00\">HalfNormal</text>\n",
       "</g>\n",
       "<!-- betas -->\n",
       "<g id=\"node8\" class=\"node\">\n",
       "<title>betas</title>\n",
       "<ellipse fill=\"none\" stroke=\"black\" cx=\"334\" cy=\"-397.98\" rx=\"41.01\" ry=\"40.66\"/>\n",
       "<text xml:space=\"preserve\" text-anchor=\"middle\" x=\"334\" y=\"-409.43\" font-family=\"Times,serif\" font-size=\"14.00\">betas</text>\n",
       "<text xml:space=\"preserve\" text-anchor=\"middle\" x=\"334\" y=\"-392.93\" font-family=\"Times,serif\" font-size=\"14.00\">~</text>\n",
       "<text xml:space=\"preserve\" text-anchor=\"middle\" x=\"334\" y=\"-376.43\" font-family=\"Times,serif\" font-size=\"14.00\">Normal</text>\n",
       "</g>\n",
       "<!-- sigma_betas&#45;&gt;betas -->\n",
       "<g id=\"edge3\" class=\"edge\">\n",
       "<title>sigma_betas&#45;&gt;betas</title>\n",
       "<path fill=\"none\" stroke=\"black\" d=\"M339.88,-474.28C339.27,-466.5 338.63,-458.25 337.99,-450.16\"/>\n",
       "<polygon fill=\"black\" stroke=\"black\" points=\"341.5,-450.12 337.23,-440.42 334.52,-450.66 341.5,-450.12\"/>\n",
       "</g>\n",
       "<!-- betas&#45;&gt;dgp -->\n",
       "<g id=\"edge6\" class=\"edge\">\n",
       "<title>betas&#45;&gt;dgp</title>\n",
       "<path fill=\"none\" stroke=\"black\" d=\"M310.03,-364.71C299.99,-351.87 287.9,-337.23 276,-324.82 273.49,-322.2 270.83,-319.56 268.11,-316.94\"/>\n",
       "<polygon fill=\"black\" stroke=\"black\" points=\"270.64,-314.51 260.94,-310.26 265.87,-319.64 270.64,-314.51\"/>\n",
       "</g>\n",
       "</g>\n",
       "</svg>\n"
      ],
      "text/plain": [
       "<graphviz.graphs.Digraph at 0x3f691e2d0>"
      ]
     },
     "execution_count": 116,
     "metadata": {},
     "output_type": "execute_result"
    }
   ],
   "source": [
    "pm.model_to_graphviz(CausalSoccer_model)"
   ]
  },
  {
   "cell_type": "code",
   "execution_count": 117,
   "id": "457b622e-ba14-4517-bbd8-bf374689824f",
   "metadata": {},
   "outputs": [
    {
     "name": "stderr",
     "output_type": "stream",
     "text": [
      "INFO:pymc.sampling.forward:Sampling: [alpha, betas, likelihood, sigma__alpha, sigma_betas]\n"
     ]
    }
   ],
   "source": [
    "with CausalSoccer_model:\n",
    "    idata = pm.sample_prior_predictive(draws=5000)"
   ]
  },
  {
   "cell_type": "code",
   "execution_count": 118,
   "id": "93f85533-f365-4256-b937-b9889bd9c4b7",
   "metadata": {},
   "outputs": [
    {
     "data": {
      "image/png": "[encoded data removed]",
      "text/plain": [
       "<Figure size 800x500 with 1 Axes>"
      ]
     },
     "metadata": {},
     "output_type": "display_data"
    },
    {
     "name": "stdout",
     "output_type": "stream",
     "text": [
      "\n",
      "Mean:      -2.01\n",
      "SD:         0.06\n",
      "Skew:      -0.14\n",
      "Kurtosis:   3.16\n"
     ]
    }
   ],
   "source": [
    "\n",
    "\n",
    "\n",
    "fig,ax=plt.subplots(figsize=(8,5))\n",
    "sns.histplot(x=s_plot,color='firebrick',label='obs',ax=ax, stat='density')\n",
    "sns.histplot(x=idata['prior_predictive']['likelihood'].stack(samples=('chain','draw')).median(axis=1),\n",
    "             color='darkgreen',label='prior preds',ax=ax, stat='density')\n",
    "plt.ylabel('')\n",
    "plt.xlabel('')\n",
    "plt.legend()\n",
    "plt.title('Prior Predictive')\n",
    "plt.show()\n",
    "\n",
    "\n",
    "# --- Some Summary Statistics:\n",
    "s_priorPred = pd.Series(idata['prior_predictive']['likelihood'].stack(samples=('chain','draw')).median(axis=1))\n",
    "print(f'\\nMean:      {s_priorPred.mean(): .2f}')\n",
    "print(f'SD:        {s_priorPred.std(): .2f}')\n",
    "print(f'Skew:      {s_priorPred.skew(): .2f}')\n",
    "print(f'Kurtosis:  {s_priorPred.kurt()+3: .2f}')\n"
   ]
  },
  {
   "cell_type": "code",
   "execution_count": 119,
   "id": "30d68db8-a580-469d-8e48-eb2e6896a51f",
   "metadata": {},
   "outputs": [
    {
     "data": {
      "application/vnd.jupyter.widget-view+json": {
       "model_id": "cc2666c1227844988182497be06d1a29",
       "version_major": 2,
       "version_minor": 0
      },
      "text/plain": [
       "  0%|          | 0/2000 [00:00<?, ?it/s]"
      ]
     },
     "metadata": {},
     "output_type": "display_data"
    },
    {
     "data": {
      "application/vnd.jupyter.widget-view+json": {
       "model_id": "bbe93ff53e2f44539ba514846407b95a",
       "version_major": 2,
       "version_minor": 0
      },
      "text/plain": [
       "  0%|          | 0/2000 [00:00<?, ?it/s]"
      ]
     },
     "metadata": {},
     "output_type": "display_data"
    },
    {
     "data": {
      "application/vnd.jupyter.widget-view+json": {
       "model_id": "3b341cd3fcac4e2b9dda6d95437c59fd",
       "version_major": 2,
       "version_minor": 0
      },
      "text/plain": [
       "  0%|          | 0/2000 [00:00<?, ?it/s]"
      ]
     },
     "metadata": {},
     "output_type": "display_data"
    },
    {
     "data": {
      "application/vnd.jupyter.widget-view+json": {
       "model_id": "ac81908c5a6847069bfb0bdb461af853",
       "version_major": 2,
       "version_minor": 0
      },
      "text/plain": [
       "  0%|          | 0/2000 [00:00<?, ?it/s]"
      ]
     },
     "metadata": {},
     "output_type": "display_data"
    },
    {
     "name": "stderr",
     "output_type": "stream",
     "text": [
      "ERROR:pymc.stats.convergence:There were 33 divergences after tuning. Increase `target_accept` or reparameterize.\n"
     ]
    }
   ],
   "source": [
    "N_chains = 4\n",
    "\n",
    "with CausalSoccer_model:\n",
    "    idata = pm.sample(nuts_sampler=\"numpyro\", target_accept=0.99, chains=N_chains,draws=1000)\n",
    "    #idata = pm.sample(nuts_sampler=\"pymc\", target_accept=0.99, chains=N_chains,draws=1000)\n"
   ]
  },
  {
   "cell_type": "code",
   "execution_count": 120,
   "id": "634efc6d-7d17-4ba1-889d-8ea4fa43764b",
   "metadata": {},
   "outputs": [
    {
     "name": "stderr",
     "output_type": "stream",
     "text": [
      "INFO:pymc.sampling.forward:Sampling: [likelihood]\n"
     ]
    },
    {
     "data": {
      "application/vnd.jupyter.widget-view+json": {
       "model_id": "1a9bef184c4642cbb9eef8df50bd3d24",
       "version_major": 2,
       "version_minor": 0
      },
      "text/plain": [
       "Output()"
      ]
     },
     "metadata": {},
     "output_type": "display_data"
    },
    {
     "data": {
      "text/html": [
       "<pre style=\"white-space:pre;overflow-x:auto;line-height:normal;font-family:Menlo,'DejaVu Sans Mono',consolas,'Courier New',monospace\"></pre>\n"
      ],
      "text/plain": []
     },
     "metadata": {},
     "output_type": "display_data"
    }
   ],
   "source": [
    "# ===================================== Make Predictions ===================================== #\n",
    "\n",
    "with CausalSoccer_model:\n",
    "    idata.extend(pm.sample_posterior_predictive(idata))"
   ]
  },
  {
   "cell_type": "code",
   "execution_count": 121,
   "id": "618395c9-a171-423c-9fa0-fbd4543177d8",
   "metadata": {},
   "outputs": [],
   "source": [
    "# ===================================== Evaluate the Fitting: Just a 'by-foot' workaround ===================================== #\n",
    "if 1==2:\n",
    "    # --- Extract the Estimates:\n",
    "    alpha__samples = idata['posterior']['alpha'].stack(samples=('chain','draw')).to_numpy()\n",
    "    beta__samples = idata['posterior']['betas'].stack(samples=('chain','draw')).to_numpy()\n",
    "    \n",
    "    \n",
    "    # --- Predict:\n",
    "    df_Yhat = pd.DataFrame(np.nan,index=df_reg.index,columns=[f'draw__{n}' for n in range(len(alpha__samples))])\n",
    "    for n in tqdm(range(len(alpha__samples))):\n",
    "        df_Yhat.loc[:,f'draw__{n}'] = alpha__samples[n] + df_reg[features] @ beta__samples[:,n]\n",
    "    \n",
    "    \n",
    "    # --- Evaluate:\n",
    "    print(f'\\nGoodness of Fit (R^2): {R2(idata['constant_data']['Y'].to_numpy(),\n",
    "                                         df_Yhat.median(axis=1).values,\n",
    "                                         idata['constant_data']['Y'].mean().to_numpy()):.2f}')\n"
   ]
  },
  {
   "cell_type": "code",
   "execution_count": 122,
   "id": "856555e5-f261-48bd-975b-5259db3d1216",
   "metadata": {},
   "outputs": [
    {
     "data": {
      "image/png": "[encoded data removed]",
      "text/plain": [
       "<Figure size 800x500 with 1 Axes>"
      ]
     },
     "metadata": {},
     "output_type": "display_data"
    },
    {
     "name": "stdout",
     "output_type": "stream",
     "text": [
      "\n",
      "Mean:      -1.88\n",
      "SD:         0.14\n",
      "Skew:       0.28\n",
      "Kurtosis:   3.80\n"
     ]
    }
   ],
   "source": [
    "# ===================================== Plot the Posterior Predictive vs. the Target ===================================== #\n",
    "\n",
    "\n",
    "# --- Get the Target:\n",
    "s_plot = df_reg[outcome_label].copy()\n",
    "\n",
    "\n",
    "\n",
    "fig,ax=plt.subplots(figsize=(8,5))\n",
    "sns.histplot(x=s_plot,color='firebrick',label='obs',ax=ax, stat='density')\n",
    "sns.histplot(x=idata['posterior_predictive']['likelihood'].stack(samples=('chain','draw')).median(axis=1),\n",
    "             color='darkgreen',label='preds',ax=ax, stat='density')\n",
    "plt.ylabel('')\n",
    "plt.xlabel('')\n",
    "plt.legend('')\n",
    "plt.show()\n",
    "\n",
    "\n",
    "s_postPred = pd.Series(idata['posterior_predictive']['likelihood'].stack(samples=('chain','draw')).median(axis=1))\n",
    "print(f'\\nMean:      {s_postPred.mean(): .2f}')\n",
    "print(f'SD:        {s_postPred.std(): .2f}')\n",
    "print(f'Skew:      {s_postPred.skew(): .2f}')\n",
    "print(f'Kurtosis:  {s_postPred.kurt()+3: .2f}')\n",
    "\n"
   ]
  },
  {
   "cell_type": "code",
   "execution_count": 123,
   "id": "7f42448f-8796-4bcd-a3c2-64187460879e",
   "metadata": {},
   "outputs": [
    {
     "name": "stdout",
     "output_type": "stream",
     "text": [
      "\n",
      "Goodness of Fit (R^2): 0.05\n"
     ]
    }
   ],
   "source": [
    "# ===================================== Evaluate the Fitting: the Quick Alternative ===================================== #\n",
    "\n",
    "\n",
    "print(f'\\nGoodness of Fit (R^2): {R2(s_plot,\n",
    "                                     idata['posterior_predictive']['likelihood'].stack(samples=('chain','draw')).median(axis=1),\n",
    "                                     s_plot.mean()):.2f}')"
   ]
  },
  {
   "cell_type": "code",
   "execution_count": 41,
   "id": "024dcb6a-05eb-424a-8c99-d146c114c5db",
   "metadata": {},
   "outputs": [
    {
     "data": {
      "text/plain": [
       "['sub',\n",
       " 'score_diff',\n",
       " 'strength__off__pre',\n",
       " 'strength__def__pre',\n",
       " 'passes_perMin__off__pre']"
      ]
     },
     "execution_count": 41,
     "metadata": {},
     "output_type": "execute_result"
    }
   ],
   "source": [
    "features"
   ]
  },
  {
   "cell_type": "code",
   "execution_count": 42,
   "id": "9c137d75-7ad0-436c-9905-684fd0e19522",
   "metadata": {},
   "outputs": [
    {
     "data": {
      "image/png": "[encoded data removed]",
      "text/plain": [
       "<Figure size 800x500 with 1 Axes>"
      ]
     },
     "metadata": {},
     "output_type": "display_data"
    },
    {
     "name": "stdout",
     "output_type": "stream",
     "text": [
      "\n",
      "\n",
      "Lower Bound  2.5%:  -0.07\n",
      "Mean:               -0.02\n",
      "Upper Bound 97.5%:   0.03\n"
     ]
    }
   ],
   "source": [
    "# ===================================== Evaluate the Treatment Effect: Plot '\\beta_{sub}' ===================================== #\n",
    "\n",
    "\n",
    "# --------------------------- USER INTERACTION --------------------------- #\n",
    "\n",
    "# --- Confidence Interval: ]0.5,1]\n",
    "pick_q = 0.95\n",
    "\n",
    "# --- Which feature?\n",
    "pick_feature = 'sub'\n",
    "\n",
    "# --------------------------- USER INTERACTION --------------------------- #\n",
    "\n",
    "\n",
    "beta__samples = idata['posterior']['betas'][:,:,features.index(pick_feature)].to_numpy().flatten()\n",
    "\n",
    "\n",
    "\n",
    "fig,ax=plt.subplots(figsize=(8,5))\n",
    "sns.histplot(x=beta__samples,ax=ax)\n",
    "plt.ylabel('')\n",
    "plt.xlabel('')\n",
    "plt.legend('')\n",
    "plt.title(f'Substitution (T=1): Increase in # of {outcome_label.capitalize()}')\n",
    "plt.show()\n",
    "\n",
    "# --- Some Summary Statistics:\n",
    "\n",
    "\n",
    "print('\\n')\n",
    "print(f'Lower Bound  {(1-pick_q)/2*100:.1f}%:  {np.quantile(beta__samples,q=(1-pick_q)/2): .2f}')\n",
    "print(f'Mean:               {beta__samples.mean(): .2f}')\n",
    "print(f'Upper Bound {(1-(1-pick_q)/2)*100:.1f}%:  {np.quantile(beta__samples,q=1-(1-pick_q)/2): .2f}')\n"
   ]
  }
 ],
 "metadata": {
  "kernelspec": {
   "display_name": "soccer_sub",
   "language": "python",
   "name": "soccer_sub"
  },
  "language_info": {
   "codemirror_mode": {
    "name": "ipython",
    "version": 3
   },
   "file_extension": ".py",
   "mimetype": "text/x-python",
   "name": "python",
   "nbconvert_exporter": "python",
   "pygments_lexer": "ipython3",
   "version": "3.12.8"
  }
 },
 "nbformat": 4,
 "nbformat_minor": 5
}
